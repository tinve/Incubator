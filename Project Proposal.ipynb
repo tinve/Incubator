{
 "cells": [
  {
   "cell_type": "code",
   "execution_count": 12,
   "metadata": {
    "collapsed": false
   },
   "outputs": [],
   "source": [
    "from __future__ import division\n",
    "\n",
    "import pandas as pd\n",
    "import numpy as np\n",
    "import matplotlib.pyplot as plt\n",
    "import seaborn as sns\n",
    "\n",
    "\n",
    "from pymongo import *\n",
    "from mpl_toolkits.basemap import Basemap\n",
    "from collections import Counter\n",
    "import ast\n",
    "\n",
    "from datetime import datetime\n",
    "\n",
    "% matplotlib inline"
   ]
  },
  {
   "cell_type": "code",
   "execution_count": 2,
   "metadata": {
    "collapsed": false
   },
   "outputs": [
    {
     "data": {
      "text/html": [
       "<div>\n",
       "<table border=\"1\" class=\"dataframe\">\n",
       "  <thead>\n",
       "    <tr style=\"text-align: right;\">\n",
       "      <th></th>\n",
       "      <th>ID</th>\n",
       "      <th>Case Number</th>\n",
       "      <th>Date</th>\n",
       "      <th>Block</th>\n",
       "      <th>IUCR</th>\n",
       "      <th>Primary Type</th>\n",
       "      <th>Description</th>\n",
       "      <th>Location Description</th>\n",
       "      <th>Arrest</th>\n",
       "      <th>Domestic</th>\n",
       "      <th>...</th>\n",
       "      <th>Ward</th>\n",
       "      <th>Community Area</th>\n",
       "      <th>FBI Code</th>\n",
       "      <th>X Coordinate</th>\n",
       "      <th>Y Coordinate</th>\n",
       "      <th>Year</th>\n",
       "      <th>Updated On</th>\n",
       "      <th>Latitude</th>\n",
       "      <th>Longitude</th>\n",
       "      <th>Location</th>\n",
       "    </tr>\n",
       "  </thead>\n",
       "  <tbody>\n",
       "    <tr>\n",
       "      <th>0</th>\n",
       "      <td>10288746</td>\n",
       "      <td>HY476724</td>\n",
       "      <td>2015-10-24 23:59:00</td>\n",
       "      <td>016XX E HAYES DR</td>\n",
       "      <td>0610</td>\n",
       "      <td>BURGLARY</td>\n",
       "      <td>FORCIBLE ENTRY</td>\n",
       "      <td>PARK PROPERTY</td>\n",
       "      <td>False</td>\n",
       "      <td>False</td>\n",
       "      <td>...</td>\n",
       "      <td>5</td>\n",
       "      <td>42</td>\n",
       "      <td>05</td>\n",
       "      <td>1188497</td>\n",
       "      <td>1863537</td>\n",
       "      <td>2015</td>\n",
       "      <td>10/31/2015 03:56:20 PM</td>\n",
       "      <td>41.780617</td>\n",
       "      <td>-87.584477</td>\n",
       "      <td>(41.780617401, -87.584477038)</td>\n",
       "    </tr>\n",
       "    <tr>\n",
       "      <th>1</th>\n",
       "      <td>10288063</td>\n",
       "      <td>HY475407</td>\n",
       "      <td>2015-10-24 23:55:00</td>\n",
       "      <td>003XX W 51ST ST</td>\n",
       "      <td>051A</td>\n",
       "      <td>ASSAULT</td>\n",
       "      <td>AGGRAVATED: HANDGUN</td>\n",
       "      <td>ALLEY</td>\n",
       "      <td>False</td>\n",
       "      <td>False</td>\n",
       "      <td>...</td>\n",
       "      <td>3</td>\n",
       "      <td>37</td>\n",
       "      <td>04A</td>\n",
       "      <td>1175009</td>\n",
       "      <td>1871144</td>\n",
       "      <td>2015</td>\n",
       "      <td>10/31/2015 03:56:20 PM</td>\n",
       "      <td>41.801803</td>\n",
       "      <td>-87.633699</td>\n",
       "      <td>(41.801803486, -87.633699142)</td>\n",
       "    </tr>\n",
       "    <tr>\n",
       "      <th>2</th>\n",
       "      <td>10287811</td>\n",
       "      <td>HY476065</td>\n",
       "      <td>2015-10-24 23:50:00</td>\n",
       "      <td>117XX S MARSHFIELD AVE</td>\n",
       "      <td>0820</td>\n",
       "      <td>THEFT</td>\n",
       "      <td>$500 AND UNDER</td>\n",
       "      <td>GROCERY FOOD STORE</td>\n",
       "      <td>False</td>\n",
       "      <td>False</td>\n",
       "      <td>...</td>\n",
       "      <td>34</td>\n",
       "      <td>75</td>\n",
       "      <td>06</td>\n",
       "      <td>1167518</td>\n",
       "      <td>1826850</td>\n",
       "      <td>2015</td>\n",
       "      <td>10/31/2015 03:56:20 PM</td>\n",
       "      <td>41.680418</td>\n",
       "      <td>-87.662438</td>\n",
       "      <td>(41.680418426, -87.662437948)</td>\n",
       "    </tr>\n",
       "    <tr>\n",
       "      <th>3</th>\n",
       "      <td>10287226</td>\n",
       "      <td>HY475363</td>\n",
       "      <td>2015-10-24 23:50:00</td>\n",
       "      <td>083XX S ELLIS AVE</td>\n",
       "      <td>0460</td>\n",
       "      <td>BATTERY</td>\n",
       "      <td>SIMPLE</td>\n",
       "      <td>SIDEWALK</td>\n",
       "      <td>False</td>\n",
       "      <td>False</td>\n",
       "      <td>...</td>\n",
       "      <td>8</td>\n",
       "      <td>44</td>\n",
       "      <td>08B</td>\n",
       "      <td>1184335</td>\n",
       "      <td>1850002</td>\n",
       "      <td>2015</td>\n",
       "      <td>10/31/2015 03:56:20 PM</td>\n",
       "      <td>41.743574</td>\n",
       "      <td>-87.600158</td>\n",
       "      <td>(41.743574495, -87.600158418)</td>\n",
       "    </tr>\n",
       "    <tr>\n",
       "      <th>4</th>\n",
       "      <td>10287210</td>\n",
       "      <td>HY475369</td>\n",
       "      <td>2015-10-24 23:50:00</td>\n",
       "      <td>039XX S CALIFORNIA AVE</td>\n",
       "      <td>0454</td>\n",
       "      <td>BATTERY</td>\n",
       "      <td>AGG PO HANDS NO/MIN INJURY</td>\n",
       "      <td>JAIL / LOCK-UP FACILITY</td>\n",
       "      <td>True</td>\n",
       "      <td>False</td>\n",
       "      <td>...</td>\n",
       "      <td>14</td>\n",
       "      <td>58</td>\n",
       "      <td>08B</td>\n",
       "      <td>1158335</td>\n",
       "      <td>1878579</td>\n",
       "      <td>2015</td>\n",
       "      <td>10/31/2015 03:56:20 PM</td>\n",
       "      <td>41.822562</td>\n",
       "      <td>-87.694647</td>\n",
       "      <td>(41.822562231, -87.694646782)</td>\n",
       "    </tr>\n",
       "  </tbody>\n",
       "</table>\n",
       "<p>5 rows × 22 columns</p>\n",
       "</div>"
      ],
      "text/plain": [
       "         ID Case Number                Date                   Block  IUCR  \\\n",
       "0  10288746    HY476724 2015-10-24 23:59:00        016XX E HAYES DR  0610   \n",
       "1  10288063    HY475407 2015-10-24 23:55:00         003XX W 51ST ST  051A   \n",
       "2  10287811    HY476065 2015-10-24 23:50:00  117XX S MARSHFIELD AVE  0820   \n",
       "3  10287226    HY475363 2015-10-24 23:50:00       083XX S ELLIS AVE  0460   \n",
       "4  10287210    HY475369 2015-10-24 23:50:00  039XX S CALIFORNIA AVE  0454   \n",
       "\n",
       "  Primary Type                 Description     Location Description Arrest  \\\n",
       "0     BURGLARY              FORCIBLE ENTRY            PARK PROPERTY  False   \n",
       "1      ASSAULT         AGGRAVATED: HANDGUN                    ALLEY  False   \n",
       "2        THEFT              $500 AND UNDER       GROCERY FOOD STORE  False   \n",
       "3      BATTERY                      SIMPLE                 SIDEWALK  False   \n",
       "4      BATTERY  AGG PO HANDS NO/MIN INJURY  JAIL / LOCK-UP FACILITY   True   \n",
       "\n",
       "  Domestic              ...                Ward  Community Area  FBI Code  \\\n",
       "0    False              ...                   5              42        05   \n",
       "1    False              ...                   3              37       04A   \n",
       "2    False              ...                  34              75        06   \n",
       "3    False              ...                   8              44       08B   \n",
       "4    False              ...                  14              58       08B   \n",
       "\n",
       "   X Coordinate Y Coordinate  Year              Updated On   Latitude  \\\n",
       "0       1188497      1863537  2015  10/31/2015 03:56:20 PM  41.780617   \n",
       "1       1175009      1871144  2015  10/31/2015 03:56:20 PM  41.801803   \n",
       "2       1167518      1826850  2015  10/31/2015 03:56:20 PM  41.680418   \n",
       "3       1184335      1850002  2015  10/31/2015 03:56:20 PM  41.743574   \n",
       "4       1158335      1878579  2015  10/31/2015 03:56:20 PM  41.822562   \n",
       "\n",
       "   Longitude                       Location  \n",
       "0 -87.584477  (41.780617401, -87.584477038)  \n",
       "1 -87.633699  (41.801803486, -87.633699142)  \n",
       "2 -87.662438  (41.680418426, -87.662437948)  \n",
       "3 -87.600158  (41.743574495, -87.600158418)  \n",
       "4 -87.694647  (41.822562231, -87.694646782)  \n",
       "\n",
       "[5 rows x 22 columns]"
      ]
     },
     "execution_count": 2,
     "metadata": {},
     "output_type": "execute_result"
    }
   ],
   "source": [
    "df = pd.read_csv('Crimes_-_2001_to_present.csv')\n",
    "\n",
    "date_format = '%m/%d/%Y %I:%M:%S %p'\n",
    "df['Date'] = df['Date'].apply(lambda x : datetime.strptime(x, date_format))\n",
    "\n",
    "df['Year'] = df['Date'].apply(lambda x : x.year)\n",
    "\n",
    "df.head()"
   ]
  },
  {
   "cell_type": "code",
   "execution_count": 3,
   "metadata": {
    "collapsed": false
   },
   "outputs": [
    {
     "name": "stdout",
     "output_type": "stream",
     "text": [
      "<class 'pandas.core.frame.DataFrame'>\n",
      "Int64Index: 5924265 entries, 0 to 5924264\n",
      "Data columns (total 22 columns):\n",
      "ID                      int64\n",
      "Case Number             object\n",
      "Date                    datetime64[ns]\n",
      "Block                   object\n",
      "IUCR                    object\n",
      "Primary Type            object\n",
      "Description             object\n",
      "Location Description    object\n",
      "Arrest                  bool\n",
      "Domestic                bool\n",
      "Beat                    int64\n",
      "District                float64\n",
      "Ward                    float64\n",
      "Community Area          float64\n",
      "FBI Code                object\n",
      "X Coordinate            float64\n",
      "Y Coordinate            float64\n",
      "Year                    int64\n",
      "Updated On              object\n",
      "Latitude                float64\n",
      "Longitude               float64\n",
      "Location                object\n",
      "dtypes: bool(2), datetime64[ns](1), float64(7), int64(3), object(9)\n",
      "memory usage: 960.5+ MB\n"
     ]
    }
   ],
   "source": [
    "df.info()"
   ]
  },
  {
   "cell_type": "code",
   "execution_count": 4,
   "metadata": {
    "collapsed": false
   },
   "outputs": [
    {
     "data": {
      "text/plain": [
       "ID                               int64\n",
       "Case Number                     object\n",
       "Date                    datetime64[ns]\n",
       "Block                           object\n",
       "IUCR                            object\n",
       "Primary Type                    object\n",
       "Description                     object\n",
       "Location Description            object\n",
       "Arrest                            bool\n",
       "Domestic                          bool\n",
       "Beat                             int64\n",
       "District                       float64\n",
       "Ward                           float64\n",
       "Community Area                 float64\n",
       "FBI Code                        object\n",
       "X Coordinate                   float64\n",
       "Y Coordinate                   float64\n",
       "Year                             int64\n",
       "Updated On                      object\n",
       "Latitude                       float64\n",
       "Longitude                      float64\n",
       "Location                        object\n",
       "dtype: object"
      ]
     },
     "execution_count": 4,
     "metadata": {},
     "output_type": "execute_result"
    }
   ],
   "source": [
    "df.dtypes"
   ]
  },
  {
   "cell_type": "code",
   "execution_count": 5,
   "metadata": {
    "collapsed": false
   },
   "outputs": [
    {
     "data": {
      "text/plain": [
       "ID                      5924265\n",
       "Case Number             5924262\n",
       "Date                    5924265\n",
       "Block                   5924265\n",
       "IUCR                    5924265\n",
       "Primary Type            5924265\n",
       "Description             5924265\n",
       "Location Description    5923392\n",
       "Arrest                  5924265\n",
       "Domestic                5924265\n",
       "Beat                    5924265\n",
       "District                5924216\n",
       "Ward                    5309385\n",
       "Community Area          5308133\n",
       "FBI Code                5924265\n",
       "X Coordinate            5871652\n",
       "Y Coordinate            5871652\n",
       "Year                    5924265\n",
       "Updated On              5924134\n",
       "Latitude                5871652\n",
       "Longitude               5871652\n",
       "Location                5871652\n",
       "dtype: int64"
      ]
     },
     "execution_count": 5,
     "metadata": {},
     "output_type": "execute_result"
    }
   ],
   "source": [
    "df.count()"
   ]
  },
  {
   "cell_type": "code",
   "execution_count": 27,
   "metadata": {
    "collapsed": false
   },
   "outputs": [
    {
     "data": {
      "text/plain": [
       "<seaborn.axisgrid.FacetGrid at 0x7f97eb033850>"
      ]
     },
     "execution_count": 27,
     "metadata": {},
     "output_type": "execute_result"
    },
    {
     "data": {
      "image/png": "[encoded data removed]",
      "text/plain": [
       "<matplotlib.figure.Figure at 0x7f9720643450>"
      ]
     },
     "metadata": {},
     "output_type": "display_data"
    }
   ],
   "source": [
    "sns.factorplot(x = 'Arrest', data = df, kind = \"count\")"
   ]
  },
  {
   "cell_type": "code",
   "execution_count": 47,
   "metadata": {
    "collapsed": false
   },
   "outputs": [
    {
     "data": {
      "image/png": "[encoded data removed]",
      "text/plain": [
       "<matplotlib.figure.Figure at 0x7f9788406650>"
      ]
     },
     "metadata": {},
     "output_type": "display_data"
    }
   ],
   "source": [
    "years = np.arange(2001, 2015)\n",
    "g = sns.factorplot(x = \"Year\", data = df, kind = \"count\",\n",
    "                   palette = \"BuPu\", size = 6, aspect = 1.5, order = years)"
   ]
  },
  {
   "cell_type": "code",
   "execution_count": 6,
   "metadata": {
    "collapsed": false
   },
   "outputs": [],
   "source": [
    "by_description = df[['Location Description', 'ID']].groupby('Location Description').agg('count').sort('ID', ascending = False)"
   ]
  },
  {
   "cell_type": "code",
   "execution_count": 7,
   "metadata": {
    "collapsed": false
   },
   "outputs": [
    {
     "data": {
      "text/plain": [
       "Index([u'STREET', u'RESIDENCE', u'SIDEWALK', u'APARTMENT', u'OTHER',\n",
       "       u'PARKING LOT/GARAGE(NON.RESID.)', u'ALLEY',\n",
       "       u'SCHOOL, PUBLIC, BUILDING', u'RESIDENCE-GARAGE',\n",
       "       u'RESIDENCE PORCH/HALLWAY'],\n",
       "      dtype='object', name=u'Location Description')"
      ]
     },
     "execution_count": 7,
     "metadata": {},
     "output_type": "execute_result"
    }
   ],
   "source": [
    "by_description[:10].index"
   ]
  },
  {
   "cell_type": "code",
   "execution_count": 21,
   "metadata": {
    "collapsed": false
   },
   "outputs": [
    {
     "data": {
      "text/plain": [
       "([<matplotlib.axis.XTick at 0x7f5851b5a590>,\n",
       "  <matplotlib.axis.XTick at 0x7f5849c5a410>,\n",
       "  <matplotlib.axis.XTick at 0x7f58364aff50>,\n",
       "  <matplotlib.axis.XTick at 0x7f581b26a890>,\n",
       "  <matplotlib.axis.XTick at 0x7f583f783050>,\n",
       "  <matplotlib.axis.XTick at 0x7f583f7837d0>,\n",
       "  <matplotlib.axis.XTick at 0x7f583f783f50>,\n",
       "  <matplotlib.axis.XTick at 0x7f583f78d710>,\n",
       "  <matplotlib.axis.XTick at 0x7f583f78de90>,\n",
       "  <matplotlib.axis.XTick at 0x7f583f797650>],\n",
       " <a list of 10 Text xticklabel objects>)"
      ]
     },
     "execution_count": 21,
     "metadata": {},
     "output_type": "execute_result"
    },
    {
     "data": {
      "image/png": "[encoded data removed]",
      "text/plain": [
       "<matplotlib.figure.Figure at 0x7f5855678c50>"
      ]
     },
     "metadata": {},
     "output_type": "display_data"
    }
   ],
   "source": [
    "width = .35\n",
    "ind = np.arange(10)\n",
    "plt.bar(ind, list(by_description[:10]['ID']))\n",
    "plt.xticks(ind + width / 2, by_description[:10].index, rotation = 45)\n",
    "\n",
    "# fig.autofmt_xdate()\n",
    "\n",
    "# plt.savefig(\"figure.pdf\")"
   ]
  },
  {
   "cell_type": "code",
   "execution_count": 18,
   "metadata": {
    "collapsed": false
   },
   "outputs": [
    {
     "data": {
      "text/plain": [
       "[1587861,\n",
       " 1001327,\n",
       " 597293,\n",
       " 592103,\n",
       " 221992,\n",
       " 169132,\n",
       " 134880,\n",
       " 131374,\n",
       " 117343,\n",
       " 103805]"
      ]
     },
     "execution_count": 18,
     "metadata": {},
     "output_type": "execute_result"
    }
   ],
   "source": [
    "list(by_description[:10]['ID'])\n"
   ]
  },
  {
   "cell_type": "markdown",
   "metadata": {
    "collapsed": true
   },
   "source": [
    "# Visualization"
   ]
  },
  {
   "cell_type": "code",
   "execution_count": 13,
   "metadata": {
    "collapsed": true
   },
   "outputs": [],
   "source": [
    "def crimes_map():\n",
    "    \"\"\"  \n",
    "\n",
    "    doesn't work :(\n",
    "    # map of chicago\n",
    "    \"\"\" \n",
    "    all_locations = []  #<-- this is the example data above\n",
    "    x = []\n",
    "    y = []\n",
    "\n",
    "    for loc in all_locations:     #creates two lists for the x and y (lat,lon) coordinates\n",
    "        x.append(float(loc[0]))\n",
    "        y.append(float(loc[1]))\n",
    "\n",
    "    # llcrnrlat,llcrnrlon,urcrnrlat,urcrnrlon\n",
    "    # are the lat/lon values of the lower left and upper right corners\n",
    "    # of the map.\n",
    "    # resolution = 'i' means use intermediate resolution coastlines.\n",
    "    # lon_0, lat_0 are the central longitude and latitude of the projection.\n",
    "    loc = [41.8709, -87.6331]\n",
    "\n",
    "    # setup Lambert Conformal basemap.\n",
    "    m = Basemap(llcrnrlon=-90.0378,llcrnrlat=40.6046,urcrnrlon=-85.4277,urcrnrlat=45.1394,\n",
    "                projection='merc',resolution='h')\n",
    "    # draw coastlines.\n",
    "    m.drawcoastlines()\n",
    "    m.drawstates()\n",
    "\n",
    "    # draw a boundary around the map, fill the background.\n",
    "    # this background will end up being the ocean color, since\n",
    "    # the continents will be drawn on top.\n",
    "    m.drawmapboundary(fill_color='white')\n",
    "\n",
    "    x1, y1 = m(x[:100],y[:100])\n",
    "    m.plot(x1,y1,marker=\"o\",alpha=1.0)\n",
    "    plt.title(\"City of Chicago Bus Stops\")\n",
    "    plt.show()"
   ]
  },
  {
   "cell_type": "code",
   "execution_count": 15,
   "metadata": {
    "collapsed": false
   },
   "outputs": [
    {
     "data": {
      "image/png": "[encoded data removed]",
      "text/plain": [
       "<matplotlib.figure.Figure at 0x7fa6e152fd90>"
      ]
     },
     "metadata": {},
     "output_type": "display_data"
    }
   ],
   "source": [
    "crimes_map()"
   ]
  },
  {
   "cell_type": "code",
   "execution_count": null,
   "metadata": {
    "collapsed": true
   },
   "outputs": [],
   "source": []
  }
 ],
 "metadata": {
  "kernelspec": {
   "display_name": "Python 2",
   "language": "python",
   "name": "python2"
  },
  "language_info": {
   "codemirror_mode": {
    "name": "ipython",
    "version": 2
   },
   "file_extension": ".py",
   "mimetype": "text/x-python",
   "name": "python",
   "nbconvert_exporter": "python",
   "pygments_lexer": "ipython2",
   "version": "2.7.10"
  }
 },
 "nbformat": 4,
 "nbformat_minor": 0
}
