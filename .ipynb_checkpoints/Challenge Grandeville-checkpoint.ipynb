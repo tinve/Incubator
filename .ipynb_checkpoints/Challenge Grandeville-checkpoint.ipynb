{
 "cells": [
  {
   "cell_type": "code",
   "execution_count": 34,
   "metadata": {
    "collapsed": true
   },
   "outputs": [],
   "source": [
    "from __future__ import division\n",
    "\n",
    "import numpy as np\n",
    "import random\n",
    "import time\n",
    "\n",
    "from math import factorial"
   ]
  },
  {
   "cell_type": "markdown",
   "metadata": {},
   "source": [
    "# Auxiliary functions"
   ]
  },
  {
   "cell_type": "code",
   "execution_count": 35,
   "metadata": {
    "collapsed": false
   },
   "outputs": [],
   "source": [
    "def step_combinations((x, y), n):\n",
    "    combinations = []\n",
    "    for i in range(n + 1):\n",
    "        j = i - x\n",
    "        if j >= 0:\n",
    "            for k in range(n + 1 - i - j):\n",
    "                if k - (n - i - j - k) == y:\n",
    "                    combinations.append((i, j, k, n - i - j - k))\n",
    "    return combinations"
   ]
  },
  {
   "cell_type": "code",
   "execution_count": 36,
   "metadata": {
    "collapsed": true
   },
   "outputs": [],
   "source": [
    "def combination_multiplicity((i, j, k, l)):\n",
    "    return factorial(i + j + k + l) / (factorial(i) * factorial(j) * factorial(k) * factorial(l))"
   ]
  },
  {
   "cell_type": "code",
   "execution_count": 37,
   "metadata": {
    "collapsed": false
   },
   "outputs": [],
   "source": [
    "def path_probability((x, y), n):\n",
    "    # given the end point (x, y), returns probability of ending at that point in exactly n steps\n",
    "    \n",
    "    multiplicity = 0\n",
    "    for combination in step_combinations((x, y), n):\n",
    "        multiplicity = multiplicity + combination_multiplicity(combination)\n",
    "    return multiplicity / 4**n"
   ]
  },
  {
   "cell_type": "code",
   "execution_count": 38,
   "metadata": {
    "collapsed": false
   },
   "outputs": [],
   "source": [
    "def step((x, y), choice):\n",
    "    if choice == 0:\n",
    "        return (x + 1, y)\n",
    "    elif choice == 1:\n",
    "        return (x - 1, y)\n",
    "    elif choice == 2:\n",
    "        return (x, y + 1)\n",
    "    else:\n",
    "        return (x, y - 1)"
   ]
  },
  {
   "cell_type": "markdown",
   "metadata": {},
   "source": [
    "# Question 1"
   ]
  },
  {
   "cell_type": "code",
   "execution_count": 39,
   "metadata": {
    "collapsed": true
   },
   "outputs": [],
   "source": [
    "r = 3\n",
    "n = 10\n",
    "\n",
    "# points that are _closer_ than r to the origin\n",
    "points = []\n",
    "for i in range(-r, r + 1):\n",
    "    for j in range(-r, r + 1):\n",
    "        if i**2 + j**2 < r**2:\n",
    "            points.append((i,j))"
   ]
  },
  {
   "cell_type": "code",
   "execution_count": 40,
   "metadata": {
    "collapsed": false
   },
   "outputs": [
    {
     "name": "stdout",
     "output_type": "stream",
     "text": [
      "0.453979492188\n"
     ]
    }
   ],
   "source": [
    "# probability of ending in one of these points\n",
    "probability = 0\n",
    "for point in points:\n",
    "    probability = probability + path_probability(point, n)\n",
    "\n",
    "# we need complementary probability\n",
    "probability = 1 - probability\n",
    "print probability"
   ]
  },
  {
   "cell_type": "code",
   "execution_count": 41,
   "metadata": {
    "collapsed": false
   },
   "outputs": [
    {
     "name": "stdout",
     "output_type": "stream",
     "text": [
      "--- 8.6204969883 seconds ---\n"
     ]
    },
    {
     "data": {
      "text/plain": [
       "0.4539794921875"
      ]
     },
     "execution_count": 41,
     "metadata": {},
     "output_type": "execute_result"
    }
   ],
   "source": [
    "# same with brute force\n",
    "start_time = time.time()\n",
    "\n",
    "outside = 0\n",
    "\n",
    "for i in range(4**n):\n",
    "    coord = (0, 0)\n",
    "    directions = np.binary_repr(i, width = 2*n)\n",
    "    for i in range(0, len(directions) - 1, 2):\n",
    "        choice = int(directions[i : i + 2], 2)\n",
    "        coord = step(coord, choice)\n",
    "    if coord[0]**2 + coord[1]**2 >= r**2:\n",
    "        outside = outside + 1\n",
    "        \n",
    "print(\"--- %s seconds ---\" % (time.time() - start_time))\n",
    "\n",
    "# round-up error from factorials in previous method?\n",
    "outside / 4**n"
   ]
  },
  {
   "cell_type": "code",
   "execution_count": 42,
   "metadata": {
    "collapsed": false
   },
   "outputs": [
    {
     "name": "stdout",
     "output_type": "stream",
     "text": [
      "--- 13.3806159496 seconds ---\n"
     ]
    },
    {
     "data": {
      "text/plain": [
       "0.454673"
      ]
     },
     "execution_count": 42,
     "metadata": {},
     "output_type": "execute_result"
    }
   ],
   "source": [
    "# same with simulation\n",
    "\n",
    "n_walks = 10**6\n",
    "outside = 0\n",
    "random.seed(42)\n",
    "\n",
    "start_time = time.time()\n",
    "\n",
    "for w in range(n_walks):\n",
    "    coord = (0, 0)\n",
    "    for s in range(n):\n",
    "        choice = random.randint(0, 3)\n",
    "        coord = step(coord, choice)\n",
    "    if coord[0]**2 + coord[1]**2 >= r**2:\n",
    "        outside = outside + 1\n",
    "        \n",
    "print(\"--- %s seconds ---\" % (time.time() - start_time))\n",
    "\n",
    "# Only 2 digits are reliable\n",
    "outside / n_walks"
   ]
  },
  {
   "cell_type": "markdown",
   "metadata": {},
   "source": [
    "# Question 2"
   ]
  },
  {
   "cell_type": "code",
   "execution_count": 43,
   "metadata": {
    "collapsed": true
   },
   "outputs": [],
   "source": [
    "r = 10\n",
    "n = 60\n",
    "\n",
    "# points that are _closer than r to the origin\n",
    "points = []\n",
    "for i in range(-r, r + 1):\n",
    "    for j in range(-r, r + 1):\n",
    "        if i**2 + j**2 < r**2:\n",
    "            points.append((i,j))"
   ]
  },
  {
   "cell_type": "code",
   "execution_count": 44,
   "metadata": {
    "collapsed": false
   },
   "outputs": [
    {
     "name": "stdout",
     "output_type": "stream",
     "text": [
      "0.206501118127\n"
     ]
    }
   ],
   "source": [
    "# probability of ending in one of these points\n",
    "probability = 0\n",
    "for point in points:\n",
    "    probability = probability + path_probability(point, n)\n",
    "\n",
    "# we need complementary probability\n",
    "probability = 1 - probability\n",
    "print probability"
   ]
  },
  {
   "cell_type": "code",
   "execution_count": 45,
   "metadata": {
    "collapsed": false
   },
   "outputs": [
    {
     "name": "stdout",
     "output_type": "stream",
     "text": [
      "--- 76.3806190491 seconds ---\n"
     ]
    },
    {
     "data": {
      "text/plain": [
       "0.206444"
      ]
     },
     "execution_count": 45,
     "metadata": {},
     "output_type": "execute_result"
    }
   ],
   "source": [
    "# brute force unfeasible at this n, so:\n",
    "# same with simulation\n",
    "\n",
    "n_walks = 10**6\n",
    "outside = 0\n",
    "random.seed(42)\n",
    "\n",
    "start_time = time.time()\n",
    "\n",
    "for w in range(n_walks):\n",
    "    coord = (0, 0)\n",
    "    for s in range(n):\n",
    "        choice = random.randint(0, 3)\n",
    "        coord = step(coord, choice)\n",
    "    if coord[0]**2 + coord[1]**2 >= r**2:\n",
    "        outside = outside + 1\n",
    "        \n",
    "print(\"--- %s seconds ---\" % (time.time() - start_time))\n",
    "\n",
    "# only three digits reliable\n",
    "outside / n_walks"
   ]
  },
  {
   "cell_type": "markdown",
   "metadata": {},
   "source": [
    "# Question 3"
   ]
  },
  {
   "cell_type": "code",
   "execution_count": 46,
   "metadata": {
    "collapsed": false
   },
   "outputs": [
    {
     "name": "stdout",
     "output_type": "stream",
     "text": [
      "--- 8.93315792084 seconds ---\n"
     ]
    },
    {
     "data": {
      "text/plain": [
       "0.6310653686523438"
      ]
     },
     "execution_count": 46,
     "metadata": {},
     "output_type": "execute_result"
    }
   ],
   "source": [
    "r = 3\n",
    "n = 10\n",
    "\n",
    "# brute force\n",
    "start_time = time.time()\n",
    "\n",
    "outside = 0\n",
    "\n",
    "for i in range(4**n):\n",
    "    coord = (0, 0)\n",
    "    directions = np.binary_repr(i, width = 2*n)\n",
    "    for i in range(0, len(directions) - 1, 2):\n",
    "        choice = int(directions[i : i + 2], 2)\n",
    "        coord = step(coord, choice)\n",
    "        if coord[0]**2 + coord[1]**2 >= r**2:\n",
    "            outside = outside + 1\n",
    "            break\n",
    "        \n",
    "print(\"--- %s seconds ---\" % (time.time() - start_time))\n",
    "\n",
    "outside / 4**n"
   ]
  },
  {
   "cell_type": "code",
   "execution_count": 47,
   "metadata": {
    "collapsed": false
   },
   "outputs": [
    {
     "name": "stdout",
     "output_type": "stream",
     "text": [
      "--- 12.0627379417 seconds ---\n"
     ]
    },
    {
     "data": {
      "text/plain": [
       "0.631645"
      ]
     },
     "execution_count": 47,
     "metadata": {},
     "output_type": "execute_result"
    }
   ],
   "source": [
    "# and simulation\n",
    "\n",
    "n_walks = 10**6\n",
    "outside = 0\n",
    "random.seed(42)\n",
    "\n",
    "start_time = time.time()\n",
    "\n",
    "for w in range(n_walks):\n",
    "    coord = (0, 0)\n",
    "    for s in range(n):\n",
    "        choice = random.randint(0, 3)\n",
    "        coord = step(coord, choice)\n",
    "        if coord[0]**2 + coord[1]**2 >= r**2:\n",
    "            outside = outside + 1\n",
    "            break\n",
    "        \n",
    "print(\"--- %s seconds ---\" % (time.time() - start_time))\n",
    "\n",
    "# Only 2 digits are reliable\n",
    "outside / n_walks"
   ]
  },
  {
   "cell_type": "markdown",
   "metadata": {},
   "source": [
    "# Question 4"
   ]
  },
  {
   "cell_type": "code",
   "execution_count": 49,
   "metadata": {
    "collapsed": false
   },
   "outputs": [
    {
     "name": "stdout",
     "output_type": "stream",
     "text": [
      "--- 88.2132999897 seconds ---\n"
     ]
    },
    {
     "data": {
      "text/plain": [
       "0.318399"
      ]
     },
     "execution_count": 49,
     "metadata": {},
     "output_type": "execute_result"
    }
   ],
   "source": [
    "# tried several approaches to solve analytically, didn't work out\n",
    "# and brute force is unfeasible, \n",
    "# so here is simulation\n",
    "\n",
    "r = 10\n",
    "n = 60\n",
    "\n",
    "n_walks = 10**6\n",
    "outside = 0\n",
    "random.seed(42)\n",
    "\n",
    "start_time = time.time()\n",
    "\n",
    "for w in range(n_walks):\n",
    "    coord = (0, 0)\n",
    "    for s in range(n):\n",
    "        choice = random.randint(0, 3)\n",
    "        coord = step(coord, choice)\n",
    "        if coord[0]**2 + coord[1]**2 >= r**2:\n",
    "            outside = outside + 1\n",
    "            break\n",
    "\n",
    "print(\"--- %s seconds ---\" % (time.time() - start_time))\n",
    "\n",
    "# bad approximation, but better than nothing\n",
    "outside / n_walks"
   ]
  },
  {
   "cell_type": "markdown",
   "metadata": {},
   "source": [
    "# Question 5"
   ]
  },
  {
   "cell_type": "code",
   "execution_count": 32,
   "metadata": {
    "collapsed": false
   },
   "outputs": [
    {
     "name": "stdout",
     "output_type": "stream",
     "text": [
      "0.0\n",
      "0 0.0625\n",
      "0.01611328125 0.00390625 \n",
      "\n",
      "0.0\n",
      "0 0.0625\n",
      "0.009765625 0.00390625 \n",
      "\n",
      "0.000244140625\n",
      "0.0625 0.0625\n",
      "0.00390625 0.00390625 \n",
      "\n",
      "0.0\n",
      "0.09375 0.0625\n",
      "0 0.00390625 \n",
      "\n",
      "0.0\n",
      "0.109375 0.0625\n",
      "0 0.00390625 \n",
      "\n",
      "0.0\n",
      "0.1171875 0.0625\n",
      "0 0.00390625 \n",
      "\n"
     ]
    }
   ],
   "source": [
    "n = 10\n",
    "\n",
    "probability = 0\n",
    "for k in range(n):\n",
    "    prob_east2 = path_probability_1d(2, k)\n",
    "    prob_west2 = path_probability_1d(-4, n - k)\n",
    "    print prob_east2 * prob_west2"
   ]
  },
  {
   "cell_type": "code",
   "execution_count": 27,
   "metadata": {
    "collapsed": false
   },
   "outputs": [
    {
     "data": {
      "text/plain": [
       "0.0625"
      ]
     },
     "execution_count": 27,
     "metadata": {},
     "output_type": "execute_result"
    }
   ],
   "source": [
    "0.25**2"
   ]
  },
  {
   "cell_type": "markdown",
   "metadata": {},
   "source": [
    "# Question 6"
   ]
  },
  {
   "cell_type": "code",
   "execution_count": null,
   "metadata": {
    "collapsed": true
   },
   "outputs": [],
   "source": []
  },
  {
   "cell_type": "markdown",
   "metadata": {},
   "source": [
    "# Question 7"
   ]
  },
  {
   "cell_type": "code",
   "execution_count": null,
   "metadata": {
    "collapsed": true
   },
   "outputs": [],
   "source": []
  },
  {
   "cell_type": "markdown",
   "metadata": {},
   "source": [
    "# Question 8"
   ]
  },
  {
   "cell_type": "code",
   "execution_count": null,
   "metadata": {
    "collapsed": true
   },
   "outputs": [],
   "source": []
  }
 ],
 "metadata": {
  "kernelspec": {
   "display_name": "Python 2",
   "language": "python",
   "name": "python2"
  },
  "language_info": {
   "codemirror_mode": {
    "name": "ipython",
    "version": 2
   },
   "file_extension": ".py",
   "mimetype": "text/x-python",
   "name": "python",
   "nbconvert_exporter": "python",
   "pygments_lexer": "ipython2",
   "version": "2.7.10"
  }
 },
 "nbformat": 4,
 "nbformat_minor": 0
}
