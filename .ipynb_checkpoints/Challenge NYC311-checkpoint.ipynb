{
 "cells": [
  {
   "cell_type": "code",
   "execution_count": 185,
   "metadata": {
    "collapsed": true
   },
   "outputs": [],
   "source": [
    "from __future__ import division\n",
    "\n",
    "import pandas as pd\n",
    "import numpy as np\n",
    "import graphlab as gl\n",
    "import time\n",
    "\n",
    "from datetime import datetime\n",
    "\n",
    "import matplotlib.pyplot as plt\n",
    "% matplotlib inline"
   ]
  },
  {
   "cell_type": "code",
   "execution_count": 186,
   "metadata": {
    "collapsed": true
   },
   "outputs": [],
   "source": [
    "columns_of_interest = ['Created Date', 'Agency', 'Complaint Type', 'Borough', 'Latitude', 'Longitude']"
   ]
  },
  {
   "cell_type": "code",
   "execution_count": 187,
   "metadata": {
    "collapsed": false
   },
   "outputs": [],
   "source": [
    "# uncomment for the first run\n",
    "\n",
    "# # only load necessary columns to save space\n",
    "# sf = gl.SFrame.read_csv('nyc311calls.csv', verbose = False, usecols = columns_of_interest)\n",
    "\n",
    "# # save to binary for fast future access\n",
    "# sf.save('nyc311_sframe')"
   ]
  },
  {
   "cell_type": "code",
   "execution_count": 188,
   "metadata": {
    "collapsed": false
   },
   "outputs": [
    {
     "data": {
      "text/html": [
       "<div style=\"max-height:1000px;max-width:1500px;overflow:auto;\"><table frame=\"box\" rules=\"cols\">\n",
       "    <tr>\n",
       "        <th style=\"padding-left: 1em; padding-right: 1em; text-align: center\">Created Date</th>\n",
       "        <th style=\"padding-left: 1em; padding-right: 1em; text-align: center\">Agency</th>\n",
       "        <th style=\"padding-left: 1em; padding-right: 1em; text-align: center\">Complaint Type</th>\n",
       "        <th style=\"padding-left: 1em; padding-right: 1em; text-align: center\">Borough</th>\n",
       "        <th style=\"padding-left: 1em; padding-right: 1em; text-align: center\">Latitude</th>\n",
       "        <th style=\"padding-left: 1em; padding-right: 1em; text-align: center\">Longitude</th>\n",
       "    </tr>\n",
       "    <tr>\n",
       "        <td style=\"padding-left: 1em; padding-right: 1em; text-align: center; vertical-align: top\">10/05/2015 11:56:00 PM</td>\n",
       "        <td style=\"padding-left: 1em; padding-right: 1em; text-align: center; vertical-align: top\">DSNY</td>\n",
       "        <td style=\"padding-left: 1em; padding-right: 1em; text-align: center; vertical-align: top\">Derelict Vehicles</td>\n",
       "        <td style=\"padding-left: 1em; padding-right: 1em; text-align: center; vertical-align: top\">QUEENS</td>\n",
       "        <td style=\"padding-left: 1em; padding-right: 1em; text-align: center; vertical-align: top\">40.6712004682</td>\n",
       "        <td style=\"padding-left: 1em; padding-right: 1em; text-align: center; vertical-align: top\">-73.7894667341</td>\n",
       "    </tr>\n",
       "    <tr>\n",
       "        <td style=\"padding-left: 1em; padding-right: 1em; text-align: center; vertical-align: top\">10/05/2015 02:21:36 AM</td>\n",
       "        <td style=\"padding-left: 1em; padding-right: 1em; text-align: center; vertical-align: top\">DSNY</td>\n",
       "        <td style=\"padding-left: 1em; padding-right: 1em; text-align: center; vertical-align: top\">Graffiti</td>\n",
       "        <td style=\"padding-left: 1em; padding-right: 1em; text-align: center; vertical-align: top\">BROOKLYN</td>\n",
       "        <td style=\"padding-left: 1em; padding-right: 1em; text-align: center; vertical-align: top\">40.7071446347</td>\n",
       "        <td style=\"padding-left: 1em; padding-right: 1em; text-align: center; vertical-align: top\">-73.9518342756</td>\n",
       "    </tr>\n",
       "    <tr>\n",
       "        <td style=\"padding-left: 1em; padding-right: 1em; text-align: center; vertical-align: top\">10/05/2015 02:19:55 AM</td>\n",
       "        <td style=\"padding-left: 1em; padding-right: 1em; text-align: center; vertical-align: top\">DSNY</td>\n",
       "        <td style=\"padding-left: 1em; padding-right: 1em; text-align: center; vertical-align: top\">Graffiti</td>\n",
       "        <td style=\"padding-left: 1em; padding-right: 1em; text-align: center; vertical-align: top\">BROOKLYN</td>\n",
       "        <td style=\"padding-left: 1em; padding-right: 1em; text-align: center; vertical-align: top\">40.7100487216</td>\n",
       "        <td style=\"padding-left: 1em; padding-right: 1em; text-align: center; vertical-align: top\">-73.9521387718</td>\n",
       "    </tr>\n",
       "    <tr>\n",
       "        <td style=\"padding-left: 1em; padding-right: 1em; text-align: center; vertical-align: top\">10/05/2015 02:19:14 AM</td>\n",
       "        <td style=\"padding-left: 1em; padding-right: 1em; text-align: center; vertical-align: top\">DSNY</td>\n",
       "        <td style=\"padding-left: 1em; padding-right: 1em; text-align: center; vertical-align: top\">Graffiti</td>\n",
       "        <td style=\"padding-left: 1em; padding-right: 1em; text-align: center; vertical-align: top\">BROOKLYN</td>\n",
       "        <td style=\"padding-left: 1em; padding-right: 1em; text-align: center; vertical-align: top\">40.7084408233</td>\n",
       "        <td style=\"padding-left: 1em; padding-right: 1em; text-align: center; vertical-align: top\">-73.9534384136</td>\n",
       "    </tr>\n",
       "    <tr>\n",
       "        <td style=\"padding-left: 1em; padding-right: 1em; text-align: center; vertical-align: top\">10/05/2015 02:14:38 AM</td>\n",
       "        <td style=\"padding-left: 1em; padding-right: 1em; text-align: center; vertical-align: top\">NYPD</td>\n",
       "        <td style=\"padding-left: 1em; padding-right: 1em; text-align: center; vertical-align: top\">Animal Abuse</td>\n",
       "        <td style=\"padding-left: 1em; padding-right: 1em; text-align: center; vertical-align: top\">BROOKLYN</td>\n",
       "        <td style=\"padding-left: 1em; padding-right: 1em; text-align: center; vertical-align: top\">40.6577823273</td>\n",
       "        <td style=\"padding-left: 1em; padding-right: 1em; text-align: center; vertical-align: top\">-73.951087811</td>\n",
       "    </tr>\n",
       "    <tr>\n",
       "        <td style=\"padding-left: 1em; padding-right: 1em; text-align: center; vertical-align: top\">10/05/2015 02:11:10 AM</td>\n",
       "        <td style=\"padding-left: 1em; padding-right: 1em; text-align: center; vertical-align: top\">NYPD</td>\n",
       "        <td style=\"padding-left: 1em; padding-right: 1em; text-align: center; vertical-align: top\">Noise - Vehicle</td>\n",
       "        <td style=\"padding-left: 1em; padding-right: 1em; text-align: center; vertical-align: top\">MANHATTAN</td>\n",
       "        <td style=\"padding-left: 1em; padding-right: 1em; text-align: center; vertical-align: top\">40.7333176765</td>\n",
       "        <td style=\"padding-left: 1em; padding-right: 1em; text-align: center; vertical-align: top\">-74.0042396999</td>\n",
       "    </tr>\n",
       "    <tr>\n",
       "        <td style=\"padding-left: 1em; padding-right: 1em; text-align: center; vertical-align: top\">10/05/2015 02:08:00 AM</td>\n",
       "        <td style=\"padding-left: 1em; padding-right: 1em; text-align: center; vertical-align: top\">NYPD</td>\n",
       "        <td style=\"padding-left: 1em; padding-right: 1em; text-align: center; vertical-align: top\">Noise - Commercial</td>\n",
       "        <td style=\"padding-left: 1em; padding-right: 1em; text-align: center; vertical-align: top\">MANHATTAN</td>\n",
       "        <td style=\"padding-left: 1em; padding-right: 1em; text-align: center; vertical-align: top\">40.8619359261</td>\n",
       "        <td style=\"padding-left: 1em; padding-right: 1em; text-align: center; vertical-align: top\">-73.9207721466</td>\n",
       "    </tr>\n",
       "    <tr>\n",
       "        <td style=\"padding-left: 1em; padding-right: 1em; text-align: center; vertical-align: top\">10/05/2015 02:04:59 AM</td>\n",
       "        <td style=\"padding-left: 1em; padding-right: 1em; text-align: center; vertical-align: top\">NYPD</td>\n",
       "        <td style=\"padding-left: 1em; padding-right: 1em; text-align: center; vertical-align: top\">Noise - Commercial</td>\n",
       "        <td style=\"padding-left: 1em; padding-right: 1em; text-align: center; vertical-align: top\">BROOKLYN</td>\n",
       "        <td style=\"padding-left: 1em; padding-right: 1em; text-align: center; vertical-align: top\">40.7131690549</td>\n",
       "        <td style=\"padding-left: 1em; padding-right: 1em; text-align: center; vertical-align: top\">-73.9579873529</td>\n",
       "    </tr>\n",
       "    <tr>\n",
       "        <td style=\"padding-left: 1em; padding-right: 1em; text-align: center; vertical-align: top\">10/05/2015 02:03:06 AM</td>\n",
       "        <td style=\"padding-left: 1em; padding-right: 1em; text-align: center; vertical-align: top\">NYPD</td>\n",
       "        <td style=\"padding-left: 1em; padding-right: 1em; text-align: center; vertical-align: top\">Blocked Driveway</td>\n",
       "        <td style=\"padding-left: 1em; padding-right: 1em; text-align: center; vertical-align: top\">QUEENS</td>\n",
       "        <td style=\"padding-left: 1em; padding-right: 1em; text-align: center; vertical-align: top\">40.6880438096</td>\n",
       "        <td style=\"padding-left: 1em; padding-right: 1em; text-align: center; vertical-align: top\">-73.8563446506</td>\n",
       "    </tr>\n",
       "    <tr>\n",
       "        <td style=\"padding-left: 1em; padding-right: 1em; text-align: center; vertical-align: top\">10/05/2015 01:59:10 AM</td>\n",
       "        <td style=\"padding-left: 1em; padding-right: 1em; text-align: center; vertical-align: top\">DOHMH</td>\n",
       "        <td style=\"padding-left: 1em; padding-right: 1em; text-align: center; vertical-align: top\">Food Establishment</td>\n",
       "        <td style=\"padding-left: 1em; padding-right: 1em; text-align: center; vertical-align: top\">MANHATTAN</td>\n",
       "        <td style=\"padding-left: 1em; padding-right: 1em; text-align: center; vertical-align: top\">40.8257582402</td>\n",
       "        <td style=\"padding-left: 1em; padding-right: 1em; text-align: center; vertical-align: top\">-73.9509390454</td>\n",
       "    </tr>\n",
       "</table>\n",
       "[10012260 rows x 6 columns]<br/>Note: Only the head of the SFrame is printed.<br/>You can use print_rows(num_rows=m, num_columns=n) to print more rows and columns.\n",
       "</div>"
      ],
      "text/plain": [
       "Columns:\n",
       "\tCreated Date\tstr\n",
       "\tAgency\tstr\n",
       "\tComplaint Type\tstr\n",
       "\tBorough\tstr\n",
       "\tLatitude\tfloat\n",
       "\tLongitude\tfloat\n",
       "\n",
       "Rows: 10012260\n",
       "\n",
       "Data:\n",
       "+------------------------+--------+--------------------+-----------+\n",
       "|      Created Date      | Agency |   Complaint Type   |  Borough  |\n",
       "+------------------------+--------+--------------------+-----------+\n",
       "| 10/05/2015 11:56:00 PM |  DSNY  | Derelict Vehicles  |   QUEENS  |\n",
       "| 10/05/2015 02:21:36 AM |  DSNY  |      Graffiti      |  BROOKLYN |\n",
       "| 10/05/2015 02:19:55 AM |  DSNY  |      Graffiti      |  BROOKLYN |\n",
       "| 10/05/2015 02:19:14 AM |  DSNY  |      Graffiti      |  BROOKLYN |\n",
       "| 10/05/2015 02:14:38 AM |  NYPD  |    Animal Abuse    |  BROOKLYN |\n",
       "| 10/05/2015 02:11:10 AM |  NYPD  |  Noise - Vehicle   | MANHATTAN |\n",
       "| 10/05/2015 02:08:00 AM |  NYPD  | Noise - Commercial | MANHATTAN |\n",
       "| 10/05/2015 02:04:59 AM |  NYPD  | Noise - Commercial |  BROOKLYN |\n",
       "| 10/05/2015 02:03:06 AM |  NYPD  |  Blocked Driveway  |   QUEENS  |\n",
       "| 10/05/2015 01:59:10 AM | DOHMH  | Food Establishment | MANHATTAN |\n",
       "+------------------------+--------+--------------------+-----------+\n",
       "+---------------+----------------+\n",
       "|    Latitude   |   Longitude    |\n",
       "+---------------+----------------+\n",
       "| 40.6712004682 | -73.7894667341 |\n",
       "| 40.7071446347 | -73.9518342756 |\n",
       "| 40.7100487216 | -73.9521387718 |\n",
       "| 40.7084408233 | -73.9534384136 |\n",
       "| 40.6577823273 | -73.951087811  |\n",
       "| 40.7333176765 | -74.0042396999 |\n",
       "| 40.8619359261 | -73.9207721466 |\n",
       "| 40.7131690549 | -73.9579873529 |\n",
       "| 40.6880438096 | -73.8563446506 |\n",
       "| 40.8257582402 | -73.9509390454 |\n",
       "+---------------+----------------+\n",
       "[10012260 rows x 6 columns]\n",
       "Note: Only the head of the SFrame is printed.\n",
       "You can use print_rows(num_rows=m, num_columns=n) to print more rows and columns."
      ]
     },
     "execution_count": 188,
     "metadata": {},
     "output_type": "execute_result"
    }
   ],
   "source": [
    "sf = gl.load_sframe('nyc311_sframe')\n",
    "num_complaints = len(sf)\n",
    "sf"
   ]
  },
  {
   "cell_type": "markdown",
   "metadata": {},
   "source": [
    "# Question 1"
   ]
  },
  {
   "cell_type": "code",
   "execution_count": 189,
   "metadata": {
    "collapsed": false
   },
   "outputs": [],
   "source": [
    "complaints_by_agency = sf.groupby(key_columns = 'Agency', operations = {'Count': gl.aggregate.COUNT()})"
   ]
  },
  {
   "cell_type": "code",
   "execution_count": 190,
   "metadata": {
    "collapsed": false
   },
   "outputs": [
    {
     "data": {
      "text/html": [
       "<div style=\"max-height:1000px;max-width:1500px;overflow:auto;\"><table frame=\"box\" rules=\"cols\">\n",
       "    <tr>\n",
       "        <th style=\"padding-left: 1em; padding-right: 1em; text-align: center\">Agency</th>\n",
       "        <th style=\"padding-left: 1em; padding-right: 1em; text-align: center\">Count</th>\n",
       "    </tr>\n",
       "    <tr>\n",
       "        <td style=\"padding-left: 1em; padding-right: 1em; text-align: center; vertical-align: top\">HPD</td>\n",
       "        <td style=\"padding-left: 1em; padding-right: 1em; text-align: center; vertical-align: top\">3542676</td>\n",
       "    </tr>\n",
       "    <tr>\n",
       "        <td style=\"padding-left: 1em; padding-right: 1em; text-align: center; vertical-align: top\">DOT</td>\n",
       "        <td style=\"padding-left: 1em; padding-right: 1em; text-align: center; vertical-align: top\">1721422</td>\n",
       "    </tr>\n",
       "    <tr>\n",
       "        <td style=\"padding-left: 1em; padding-right: 1em; text-align: center; vertical-align: top\">NYPD</td>\n",
       "        <td style=\"padding-left: 1em; padding-right: 1em; text-align: center; vertical-align: top\">1221349</td>\n",
       "    </tr>\n",
       "    <tr>\n",
       "        <td style=\"padding-left: 1em; padding-right: 1em; text-align: center; vertical-align: top\">DEP</td>\n",
       "        <td style=\"padding-left: 1em; padding-right: 1em; text-align: center; vertical-align: top\">932891</td>\n",
       "    </tr>\n",
       "    <tr>\n",
       "        <td style=\"padding-left: 1em; padding-right: 1em; text-align: center; vertical-align: top\">DSNY</td>\n",
       "        <td style=\"padding-left: 1em; padding-right: 1em; text-align: center; vertical-align: top\">762871</td>\n",
       "    </tr>\n",
       "    <tr>\n",
       "        <td style=\"padding-left: 1em; padding-right: 1em; text-align: center; vertical-align: top\">DOB</td>\n",
       "        <td style=\"padding-left: 1em; padding-right: 1em; text-align: center; vertical-align: top\">526675</td>\n",
       "    </tr>\n",
       "    <tr>\n",
       "        <td style=\"padding-left: 1em; padding-right: 1em; text-align: center; vertical-align: top\">DPR</td>\n",
       "        <td style=\"padding-left: 1em; padding-right: 1em; text-align: center; vertical-align: top\">458782</td>\n",
       "    </tr>\n",
       "    <tr>\n",
       "        <td style=\"padding-left: 1em; padding-right: 1em; text-align: center; vertical-align: top\">DOHMH</td>\n",
       "        <td style=\"padding-left: 1em; padding-right: 1em; text-align: center; vertical-align: top\">286361</td>\n",
       "    </tr>\n",
       "    <tr>\n",
       "        <td style=\"padding-left: 1em; padding-right: 1em; text-align: center; vertical-align: top\">DOF</td>\n",
       "        <td style=\"padding-left: 1em; padding-right: 1em; text-align: center; vertical-align: top\">147480</td>\n",
       "    </tr>\n",
       "    <tr>\n",
       "        <td style=\"padding-left: 1em; padding-right: 1em; text-align: center; vertical-align: top\">TLC</td>\n",
       "        <td style=\"padding-left: 1em; padding-right: 1em; text-align: center; vertical-align: top\">133540</td>\n",
       "    </tr>\n",
       "</table>\n",
       "[63 rows x 2 columns]<br/>Note: Only the head of the SFrame is printed.<br/>You can use print_rows(num_rows=m, num_columns=n) to print more rows and columns.\n",
       "</div>"
      ],
      "text/plain": [
       "Columns:\n",
       "\tAgency\tstr\n",
       "\tCount\tint\n",
       "\n",
       "Rows: 63\n",
       "\n",
       "Data:\n",
       "+--------+---------+\n",
       "| Agency |  Count  |\n",
       "+--------+---------+\n",
       "|  HPD   | 3542676 |\n",
       "|  DOT   | 1721422 |\n",
       "|  NYPD  | 1221349 |\n",
       "|  DEP   |  932891 |\n",
       "|  DSNY  |  762871 |\n",
       "|  DOB   |  526675 |\n",
       "|  DPR   |  458782 |\n",
       "| DOHMH  |  286361 |\n",
       "|  DOF   |  147480 |\n",
       "|  TLC   |  133540 |\n",
       "+--------+---------+\n",
       "[63 rows x 2 columns]\n",
       "Note: Only the head of the SFrame is printed.\n",
       "You can use print_rows(num_rows=m, num_columns=n) to print more rows and columns."
      ]
     },
     "execution_count": 190,
     "metadata": {},
     "output_type": "execute_result"
    }
   ],
   "source": [
    "complaints_by_agency = complaints_by_agency.sort('Count', ascending = False)\n",
    "complaints_by_agency"
   ]
  },
  {
   "cell_type": "code",
   "execution_count": 191,
   "metadata": {
    "collapsed": false
   },
   "outputs": [
    {
     "name": "stdout",
     "output_type": "stream",
     "text": [
      "Fraction of complaints are associated with the 2nd most popular agency:\n",
      "DOT 0.171931412089\n"
     ]
    }
   ],
   "source": [
    "print 'Fraction of complaints are associated with the 2nd most popular agency:'\n",
    "print complaints_by_agency['Agency'][1], complaints_by_agency['Count'][1] / len(sf)"
   ]
  },
  {
   "cell_type": "markdown",
   "metadata": {},
   "source": [
    "# Question 2"
   ]
  },
  {
   "cell_type": "code",
   "execution_count": 192,
   "metadata": {
    "collapsed": false
   },
   "outputs": [
    {
     "data": {
      "text/html": [
       "<div style=\"max-height:1000px;max-width:1500px;overflow:auto;\"><table frame=\"box\" rules=\"cols\">\n",
       "    <tr>\n",
       "        <th style=\"padding-left: 1em; padding-right: 1em; text-align: center\">Complaint Type</th>\n",
       "        <th style=\"padding-left: 1em; padding-right: 1em; text-align: center\">Count of Type</th>\n",
       "    </tr>\n",
       "    <tr>\n",
       "        <td style=\"padding-left: 1em; padding-right: 1em; text-align: center; vertical-align: top\">Violation of Park Rules</td>\n",
       "        <td style=\"padding-left: 1em; padding-right: 1em; text-align: center; vertical-align: top\">9718</td>\n",
       "    </tr>\n",
       "    <tr>\n",
       "        <td style=\"padding-left: 1em; padding-right: 1em; text-align: center; vertical-align: top\">APPLIANCE</td>\n",
       "        <td style=\"padding-left: 1em; padding-right: 1em; text-align: center; vertical-align: top\">58797</td>\n",
       "    </tr>\n",
       "    <tr>\n",
       "        <td style=\"padding-left: 1em; padding-right: 1em; text-align: center; vertical-align: top\">Smoking</td>\n",
       "        <td style=\"padding-left: 1em; padding-right: 1em; text-align: center; vertical-align: top\">10082</td>\n",
       "    </tr>\n",
       "    <tr>\n",
       "        <td style=\"padding-left: 1em; padding-right: 1em; text-align: center; vertical-align: top\">Miscellaneous Categories</td>\n",
       "        <td style=\"padding-left: 1em; padding-right: 1em; text-align: center; vertical-align: top\">908</td>\n",
       "    </tr>\n",
       "    <tr>\n",
       "        <td style=\"padding-left: 1em; padding-right: 1em; text-align: center; vertical-align: top\">SG-98</td>\n",
       "        <td style=\"padding-left: 1em; padding-right: 1em; text-align: center; vertical-align: top\">3</td>\n",
       "    </tr>\n",
       "    <tr>\n",
       "        <td style=\"padding-left: 1em; padding-right: 1em; text-align: center; vertical-align: top\">Animal Facility - No<br>Permit ...</td>\n",
       "        <td style=\"padding-left: 1em; padding-right: 1em; text-align: center; vertical-align: top\">421</td>\n",
       "    </tr>\n",
       "    <tr>\n",
       "        <td style=\"padding-left: 1em; padding-right: 1em; text-align: center; vertical-align: top\">DOF Property - RPIE Issue</td>\n",
       "        <td style=\"padding-left: 1em; padding-right: 1em; text-align: center; vertical-align: top\">13</td>\n",
       "    </tr>\n",
       "    <tr>\n",
       "        <td style=\"padding-left: 1em; padding-right: 1em; text-align: center; vertical-align: top\">UNSANITARY CONDITION</td>\n",
       "        <td style=\"padding-left: 1em; padding-right: 1em; text-align: center; vertical-align: top\">124273</td>\n",
       "    </tr>\n",
       "    <tr>\n",
       "        <td style=\"padding-left: 1em; padding-right: 1em; text-align: center; vertical-align: top\">Adopt-A-Basket</td>\n",
       "        <td style=\"padding-left: 1em; padding-right: 1em; text-align: center; vertical-align: top\">229</td>\n",
       "    </tr>\n",
       "    <tr>\n",
       "        <td style=\"padding-left: 1em; padding-right: 1em; text-align: center; vertical-align: top\">CONSTRUCTION</td>\n",
       "        <td style=\"padding-left: 1em; padding-right: 1em; text-align: center; vertical-align: top\">5078</td>\n",
       "    </tr>\n",
       "</table>\n",
       "[236 rows x 2 columns]<br/>Note: Only the head of the SFrame is printed.<br/>You can use print_rows(num_rows=m, num_columns=n) to print more rows and columns.\n",
       "</div>"
      ],
      "text/plain": [
       "Columns:\n",
       "\tComplaint Type\tstr\n",
       "\tCount of Type\tint\n",
       "\n",
       "Rows: 236\n",
       "\n",
       "Data:\n",
       "+-----------------------------+---------------+\n",
       "|        Complaint Type       | Count of Type |\n",
       "+-----------------------------+---------------+\n",
       "|   Violation of Park Rules   |      9718     |\n",
       "|          APPLIANCE          |     58797     |\n",
       "|           Smoking           |     10082     |\n",
       "|   Miscellaneous Categories  |      908      |\n",
       "|            SG-98            |       3       |\n",
       "| Animal Facility - No Permit |      421      |\n",
       "|  DOF Property - RPIE Issue  |       13      |\n",
       "|     UNSANITARY CONDITION    |     124273    |\n",
       "|        Adopt-A-Basket       |      229      |\n",
       "|         CONSTRUCTION        |      5078     |\n",
       "+-----------------------------+---------------+\n",
       "[236 rows x 2 columns]\n",
       "Note: Only the head of the SFrame is printed.\n",
       "You can use print_rows(num_rows=m, num_columns=n) to print more rows and columns."
      ]
     },
     "execution_count": 192,
     "metadata": {},
     "output_type": "execute_result"
    }
   ],
   "source": [
    "complaints_by_type = sf.groupby(key_columns = 'Complaint Type',\n",
    "                                operations = {'Count of Type': gl.aggregate.COUNT()})\n",
    "complaints_by_type"
   ]
  },
  {
   "cell_type": "code",
   "execution_count": 193,
   "metadata": {
    "collapsed": false
   },
   "outputs": [
    {
     "data": {
      "text/html": [
       "<div style=\"max-height:1000px;max-width:1500px;overflow:auto;\"><table frame=\"box\" rules=\"cols\">\n",
       "    <tr>\n",
       "        <th style=\"padding-left: 1em; padding-right: 1em; text-align: center\">Borough</th>\n",
       "        <th style=\"padding-left: 1em; padding-right: 1em; text-align: center\">Count of Borough</th>\n",
       "    </tr>\n",
       "    <tr>\n",
       "        <td style=\"padding-left: 1em; padding-right: 1em; text-align: center; vertical-align: top\">BROOKLYN</td>\n",
       "        <td style=\"padding-left: 1em; padding-right: 1em; text-align: center; vertical-align: top\">2779885</td>\n",
       "    </tr>\n",
       "    <tr>\n",
       "        <td style=\"padding-left: 1em; padding-right: 1em; text-align: center; vertical-align: top\">Unspecified</td>\n",
       "        <td style=\"padding-left: 1em; padding-right: 1em; text-align: center; vertical-align: top\">1102456</td>\n",
       "    </tr>\n",
       "    <tr>\n",
       "        <td style=\"padding-left: 1em; padding-right: 1em; text-align: center; vertical-align: top\">QUEENS</td>\n",
       "        <td style=\"padding-left: 1em; padding-right: 1em; text-align: center; vertical-align: top\">2151239</td>\n",
       "    </tr>\n",
       "    <tr>\n",
       "        <td style=\"padding-left: 1em; padding-right: 1em; text-align: center; vertical-align: top\">STATEN ISLAND</td>\n",
       "        <td style=\"padding-left: 1em; padding-right: 1em; text-align: center; vertical-align: top\">483458</td>\n",
       "    </tr>\n",
       "    <tr>\n",
       "        <td style=\"padding-left: 1em; padding-right: 1em; text-align: center; vertical-align: top\">BRONX</td>\n",
       "        <td style=\"padding-left: 1em; padding-right: 1em; text-align: center; vertical-align: top\">1635380</td>\n",
       "    </tr>\n",
       "    <tr>\n",
       "        <td style=\"padding-left: 1em; padding-right: 1em; text-align: center; vertical-align: top\">MANHATTAN</td>\n",
       "        <td style=\"padding-left: 1em; padding-right: 1em; text-align: center; vertical-align: top\">1859842</td>\n",
       "    </tr>\n",
       "</table>\n",
       "[6 rows x 2 columns]<br/>\n",
       "</div>"
      ],
      "text/plain": [
       "Columns:\n",
       "\tBorough\tstr\n",
       "\tCount of Borough\tint\n",
       "\n",
       "Rows: 6\n",
       "\n",
       "Data:\n",
       "+---------------+------------------+\n",
       "|    Borough    | Count of Borough |\n",
       "+---------------+------------------+\n",
       "|    BROOKLYN   |     2779885      |\n",
       "|  Unspecified  |     1102456      |\n",
       "|     QUEENS    |     2151239      |\n",
       "| STATEN ISLAND |      483458      |\n",
       "|     BRONX     |     1635380      |\n",
       "|   MANHATTAN   |     1859842      |\n",
       "+---------------+------------------+\n",
       "[6 rows x 2 columns]"
      ]
     },
     "execution_count": 193,
     "metadata": {},
     "output_type": "execute_result"
    }
   ],
   "source": [
    "complaints_by_borough = sf.groupby(key_columns = 'Borough',\n",
    "                                   operations = {'Count of Borough': gl.aggregate.COUNT()})\n",
    "complaints_by_borough"
   ]
  },
  {
   "cell_type": "code",
   "execution_count": 194,
   "metadata": {
    "collapsed": false
   },
   "outputs": [
    {
     "data": {
      "text/html": [
       "<div style=\"max-height:1000px;max-width:1500px;overflow:auto;\"><table frame=\"box\" rules=\"cols\">\n",
       "    <tr>\n",
       "        <th style=\"padding-left: 1em; padding-right: 1em; text-align: center\">Borough</th>\n",
       "        <th style=\"padding-left: 1em; padding-right: 1em; text-align: center\">Complaint Type</th>\n",
       "        <th style=\"padding-left: 1em; padding-right: 1em; text-align: center\">Count of Borough and Type</th>\n",
       "    </tr>\n",
       "    <tr>\n",
       "        <td style=\"padding-left: 1em; padding-right: 1em; text-align: center; vertical-align: top\">STATEN ISLAND</td>\n",
       "        <td style=\"padding-left: 1em; padding-right: 1em; text-align: center; vertical-align: top\">Emergency Response Team<br>(ERT) ...</td>\n",
       "        <td style=\"padding-left: 1em; padding-right: 1em; text-align: center; vertical-align: top\">108</td>\n",
       "    </tr>\n",
       "    <tr>\n",
       "        <td style=\"padding-left: 1em; padding-right: 1em; text-align: center; vertical-align: top\">BRONX</td>\n",
       "        <td style=\"padding-left: 1em; padding-right: 1em; text-align: center; vertical-align: top\">For Hire Vehicle<br>Complaint ...</td>\n",
       "        <td style=\"padding-left: 1em; padding-right: 1em; text-align: center; vertical-align: top\">3235</td>\n",
       "    </tr>\n",
       "    <tr>\n",
       "        <td style=\"padding-left: 1em; padding-right: 1em; text-align: center; vertical-align: top\">BROOKLYN</td>\n",
       "        <td style=\"padding-left: 1em; padding-right: 1em; text-align: center; vertical-align: top\">Damaged Tree</td>\n",
       "        <td style=\"padding-left: 1em; padding-right: 1em; text-align: center; vertical-align: top\">46561</td>\n",
       "    </tr>\n",
       "    <tr>\n",
       "        <td style=\"padding-left: 1em; padding-right: 1em; text-align: center; vertical-align: top\">MANHATTAN</td>\n",
       "        <td style=\"padding-left: 1em; padding-right: 1em; text-align: center; vertical-align: top\">Interior Demo</td>\n",
       "        <td style=\"padding-left: 1em; padding-right: 1em; text-align: center; vertical-align: top\">1</td>\n",
       "    </tr>\n",
       "    <tr>\n",
       "        <td style=\"padding-left: 1em; padding-right: 1em; text-align: center; vertical-align: top\">BRONX</td>\n",
       "        <td style=\"padding-left: 1em; padding-right: 1em; text-align: center; vertical-align: top\">SCRIE</td>\n",
       "        <td style=\"padding-left: 1em; padding-right: 1em; text-align: center; vertical-align: top\">2852</td>\n",
       "    </tr>\n",
       "    <tr>\n",
       "        <td style=\"padding-left: 1em; padding-right: 1em; text-align: center; vertical-align: top\">QUEENS</td>\n",
       "        <td style=\"padding-left: 1em; padding-right: 1em; text-align: center; vertical-align: top\">HEATING</td>\n",
       "        <td style=\"padding-left: 1em; padding-right: 1em; text-align: center; vertical-align: top\">75804</td>\n",
       "    </tr>\n",
       "    <tr>\n",
       "        <td style=\"padding-left: 1em; padding-right: 1em; text-align: center; vertical-align: top\">QUEENS</td>\n",
       "        <td style=\"padding-left: 1em; padding-right: 1em; text-align: center; vertical-align: top\">Derelict Vehicles</td>\n",
       "        <td style=\"padding-left: 1em; padding-right: 1em; text-align: center; vertical-align: top\">26526</td>\n",
       "    </tr>\n",
       "    <tr>\n",
       "        <td style=\"padding-left: 1em; padding-right: 1em; text-align: center; vertical-align: top\">Unspecified</td>\n",
       "        <td style=\"padding-left: 1em; padding-right: 1em; text-align: center; vertical-align: top\">Litter Basket / Request</td>\n",
       "        <td style=\"padding-left: 1em; padding-right: 1em; text-align: center; vertical-align: top\">12</td>\n",
       "    </tr>\n",
       "    <tr>\n",
       "        <td style=\"padding-left: 1em; padding-right: 1em; text-align: center; vertical-align: top\">BROOKLYN</td>\n",
       "        <td style=\"padding-left: 1em; padding-right: 1em; text-align: center; vertical-align: top\">Bridge Condition</td>\n",
       "        <td style=\"padding-left: 1em; padding-right: 1em; text-align: center; vertical-align: top\">1385</td>\n",
       "    </tr>\n",
       "    <tr>\n",
       "        <td style=\"padding-left: 1em; padding-right: 1em; text-align: center; vertical-align: top\">STATEN ISLAND</td>\n",
       "        <td style=\"padding-left: 1em; padding-right: 1em; text-align: center; vertical-align: top\">Consumer Complaint</td>\n",
       "        <td style=\"padding-left: 1em; padding-right: 1em; text-align: center; vertical-align: top\">3237</td>\n",
       "    </tr>\n",
       "</table>\n",
       "[1101 rows x 3 columns]<br/>Note: Only the head of the SFrame is printed.<br/>You can use print_rows(num_rows=m, num_columns=n) to print more rows and columns.\n",
       "</div>"
      ],
      "text/plain": [
       "Columns:\n",
       "\tBorough\tstr\n",
       "\tComplaint Type\tstr\n",
       "\tCount of Borough and Type\tint\n",
       "\n",
       "Rows: 1101\n",
       "\n",
       "Data:\n",
       "+---------------+-------------------------------+---------------------------+\n",
       "|    Borough    |         Complaint Type        | Count of Borough and Type |\n",
       "+---------------+-------------------------------+---------------------------+\n",
       "| STATEN ISLAND | Emergency Response Team (ERT) |            108            |\n",
       "|     BRONX     |   For Hire Vehicle Complaint  |            3235           |\n",
       "|    BROOKLYN   |          Damaged Tree         |           46561           |\n",
       "|   MANHATTAN   |         Interior Demo         |             1             |\n",
       "|     BRONX     |             SCRIE             |            2852           |\n",
       "|     QUEENS    |            HEATING            |           75804           |\n",
       "|     QUEENS    |       Derelict Vehicles       |           26526           |\n",
       "|  Unspecified  |    Litter Basket / Request    |             12            |\n",
       "|    BROOKLYN   |        Bridge Condition       |            1385           |\n",
       "| STATEN ISLAND |       Consumer Complaint      |            3237           |\n",
       "+---------------+-------------------------------+---------------------------+\n",
       "[1101 rows x 3 columns]\n",
       "Note: Only the head of the SFrame is printed.\n",
       "You can use print_rows(num_rows=m, num_columns=n) to print more rows and columns."
      ]
     },
     "execution_count": 194,
     "metadata": {},
     "output_type": "execute_result"
    }
   ],
   "source": [
    "complaints_by_borough_type = sf.groupby(key_columns = ['Borough', 'Complaint Type'],\n",
    "                                        operations = {'Count of Borough and Type': gl.aggregate.COUNT()})\n",
    "complaints_by_borough_type"
   ]
  },
  {
   "cell_type": "code",
   "execution_count": 195,
   "metadata": {
    "collapsed": false
   },
   "outputs": [
    {
     "data": {
      "text/html": [
       "<div style=\"max-height:1000px;max-width:1500px;overflow:auto;\"><table frame=\"box\" rules=\"cols\">\n",
       "    <tr>\n",
       "        <th style=\"padding-left: 1em; padding-right: 1em; text-align: center\">Borough</th>\n",
       "        <th style=\"padding-left: 1em; padding-right: 1em; text-align: center\">Complaint Type</th>\n",
       "        <th style=\"padding-left: 1em; padding-right: 1em; text-align: center\">Count of Borough and Type</th>\n",
       "        <th style=\"padding-left: 1em; padding-right: 1em; text-align: center\">Count of Borough</th>\n",
       "        <th style=\"padding-left: 1em; padding-right: 1em; text-align: center\">Count of Type</th>\n",
       "    </tr>\n",
       "    <tr>\n",
       "        <td style=\"padding-left: 1em; padding-right: 1em; text-align: center; vertical-align: top\">STATEN ISLAND</td>\n",
       "        <td style=\"padding-left: 1em; padding-right: 1em; text-align: center; vertical-align: top\">Emergency Response Team<br>(ERT) ...</td>\n",
       "        <td style=\"padding-left: 1em; padding-right: 1em; text-align: center; vertical-align: top\">108</td>\n",
       "        <td style=\"padding-left: 1em; padding-right: 1em; text-align: center; vertical-align: top\">483458</td>\n",
       "        <td style=\"padding-left: 1em; padding-right: 1em; text-align: center; vertical-align: top\">2802</td>\n",
       "    </tr>\n",
       "    <tr>\n",
       "        <td style=\"padding-left: 1em; padding-right: 1em; text-align: center; vertical-align: top\">BRONX</td>\n",
       "        <td style=\"padding-left: 1em; padding-right: 1em; text-align: center; vertical-align: top\">For Hire Vehicle<br>Complaint ...</td>\n",
       "        <td style=\"padding-left: 1em; padding-right: 1em; text-align: center; vertical-align: top\">3235</td>\n",
       "        <td style=\"padding-left: 1em; padding-right: 1em; text-align: center; vertical-align: top\">1635380</td>\n",
       "        <td style=\"padding-left: 1em; padding-right: 1em; text-align: center; vertical-align: top\">16145</td>\n",
       "    </tr>\n",
       "    <tr>\n",
       "        <td style=\"padding-left: 1em; padding-right: 1em; text-align: center; vertical-align: top\">BROOKLYN</td>\n",
       "        <td style=\"padding-left: 1em; padding-right: 1em; text-align: center; vertical-align: top\">Damaged Tree</td>\n",
       "        <td style=\"padding-left: 1em; padding-right: 1em; text-align: center; vertical-align: top\">46561</td>\n",
       "        <td style=\"padding-left: 1em; padding-right: 1em; text-align: center; vertical-align: top\">2779885</td>\n",
       "        <td style=\"padding-left: 1em; padding-right: 1em; text-align: center; vertical-align: top\">173736</td>\n",
       "    </tr>\n",
       "    <tr>\n",
       "        <td style=\"padding-left: 1em; padding-right: 1em; text-align: center; vertical-align: top\">MANHATTAN</td>\n",
       "        <td style=\"padding-left: 1em; padding-right: 1em; text-align: center; vertical-align: top\">Interior Demo</td>\n",
       "        <td style=\"padding-left: 1em; padding-right: 1em; text-align: center; vertical-align: top\">1</td>\n",
       "        <td style=\"padding-left: 1em; padding-right: 1em; text-align: center; vertical-align: top\">1859842</td>\n",
       "        <td style=\"padding-left: 1em; padding-right: 1em; text-align: center; vertical-align: top\">1</td>\n",
       "    </tr>\n",
       "    <tr>\n",
       "        <td style=\"padding-left: 1em; padding-right: 1em; text-align: center; vertical-align: top\">BRONX</td>\n",
       "        <td style=\"padding-left: 1em; padding-right: 1em; text-align: center; vertical-align: top\">SCRIE</td>\n",
       "        <td style=\"padding-left: 1em; padding-right: 1em; text-align: center; vertical-align: top\">2852</td>\n",
       "        <td style=\"padding-left: 1em; padding-right: 1em; text-align: center; vertical-align: top\">1635380</td>\n",
       "        <td style=\"padding-left: 1em; padding-right: 1em; text-align: center; vertical-align: top\">16905</td>\n",
       "    </tr>\n",
       "    <tr>\n",
       "        <td style=\"padding-left: 1em; padding-right: 1em; text-align: center; vertical-align: top\">QUEENS</td>\n",
       "        <td style=\"padding-left: 1em; padding-right: 1em; text-align: center; vertical-align: top\">HEATING</td>\n",
       "        <td style=\"padding-left: 1em; padding-right: 1em; text-align: center; vertical-align: top\">75804</td>\n",
       "        <td style=\"padding-left: 1em; padding-right: 1em; text-align: center; vertical-align: top\">2151239</td>\n",
       "        <td style=\"padding-left: 1em; padding-right: 1em; text-align: center; vertical-align: top\">887869</td>\n",
       "    </tr>\n",
       "    <tr>\n",
       "        <td style=\"padding-left: 1em; padding-right: 1em; text-align: center; vertical-align: top\">QUEENS</td>\n",
       "        <td style=\"padding-left: 1em; padding-right: 1em; text-align: center; vertical-align: top\">Derelict Vehicles</td>\n",
       "        <td style=\"padding-left: 1em; padding-right: 1em; text-align: center; vertical-align: top\">26526</td>\n",
       "        <td style=\"padding-left: 1em; padding-right: 1em; text-align: center; vertical-align: top\">2151239</td>\n",
       "        <td style=\"padding-left: 1em; padding-right: 1em; text-align: center; vertical-align: top\">70274</td>\n",
       "    </tr>\n",
       "    <tr>\n",
       "        <td style=\"padding-left: 1em; padding-right: 1em; text-align: center; vertical-align: top\">Unspecified</td>\n",
       "        <td style=\"padding-left: 1em; padding-right: 1em; text-align: center; vertical-align: top\">Litter Basket / Request</td>\n",
       "        <td style=\"padding-left: 1em; padding-right: 1em; text-align: center; vertical-align: top\">12</td>\n",
       "        <td style=\"padding-left: 1em; padding-right: 1em; text-align: center; vertical-align: top\">1102456</td>\n",
       "        <td style=\"padding-left: 1em; padding-right: 1em; text-align: center; vertical-align: top\">15683</td>\n",
       "    </tr>\n",
       "    <tr>\n",
       "        <td style=\"padding-left: 1em; padding-right: 1em; text-align: center; vertical-align: top\">BROOKLYN</td>\n",
       "        <td style=\"padding-left: 1em; padding-right: 1em; text-align: center; vertical-align: top\">Bridge Condition</td>\n",
       "        <td style=\"padding-left: 1em; padding-right: 1em; text-align: center; vertical-align: top\">1385</td>\n",
       "        <td style=\"padding-left: 1em; padding-right: 1em; text-align: center; vertical-align: top\">2779885</td>\n",
       "        <td style=\"padding-left: 1em; padding-right: 1em; text-align: center; vertical-align: top\">3807</td>\n",
       "    </tr>\n",
       "    <tr>\n",
       "        <td style=\"padding-left: 1em; padding-right: 1em; text-align: center; vertical-align: top\">STATEN ISLAND</td>\n",
       "        <td style=\"padding-left: 1em; padding-right: 1em; text-align: center; vertical-align: top\">Consumer Complaint</td>\n",
       "        <td style=\"padding-left: 1em; padding-right: 1em; text-align: center; vertical-align: top\">3237</td>\n",
       "        <td style=\"padding-left: 1em; padding-right: 1em; text-align: center; vertical-align: top\">483458</td>\n",
       "        <td style=\"padding-left: 1em; padding-right: 1em; text-align: center; vertical-align: top\">101124</td>\n",
       "    </tr>\n",
       "</table>\n",
       "[1101 rows x 5 columns]<br/>Note: Only the head of the SFrame is printed.<br/>You can use print_rows(num_rows=m, num_columns=n) to print more rows and columns.\n",
       "</div>"
      ],
      "text/plain": [
       "Columns:\n",
       "\tBorough\tstr\n",
       "\tComplaint Type\tstr\n",
       "\tCount of Borough and Type\tint\n",
       "\tCount of Borough\tint\n",
       "\tCount of Type\tint\n",
       "\n",
       "Rows: 1101\n",
       "\n",
       "Data:\n",
       "+---------------+-------------------------------+---------------------------+\n",
       "|    Borough    |         Complaint Type        | Count of Borough and Type |\n",
       "+---------------+-------------------------------+---------------------------+\n",
       "| STATEN ISLAND | Emergency Response Team (ERT) |            108            |\n",
       "|     BRONX     |   For Hire Vehicle Complaint  |            3235           |\n",
       "|    BROOKLYN   |          Damaged Tree         |           46561           |\n",
       "|   MANHATTAN   |         Interior Demo         |             1             |\n",
       "|     BRONX     |             SCRIE             |            2852           |\n",
       "|     QUEENS    |            HEATING            |           75804           |\n",
       "|     QUEENS    |       Derelict Vehicles       |           26526           |\n",
       "|  Unspecified  |    Litter Basket / Request    |             12            |\n",
       "|    BROOKLYN   |        Bridge Condition       |            1385           |\n",
       "| STATEN ISLAND |       Consumer Complaint      |            3237           |\n",
       "+---------------+-------------------------------+---------------------------+\n",
       "+------------------+---------------+\n",
       "| Count of Borough | Count of Type |\n",
       "+------------------+---------------+\n",
       "|      483458      |      2802     |\n",
       "|     1635380      |     16145     |\n",
       "|     2779885      |     173736    |\n",
       "|     1859842      |       1       |\n",
       "|     1635380      |     16905     |\n",
       "|     2151239      |     887869    |\n",
       "|     2151239      |     70274     |\n",
       "|     1102456      |     15683     |\n",
       "|     2779885      |      3807     |\n",
       "|      483458      |     101124    |\n",
       "+------------------+---------------+\n",
       "[1101 rows x 5 columns]\n",
       "Note: Only the head of the SFrame is printed.\n",
       "You can use print_rows(num_rows=m, num_columns=n) to print more rows and columns."
      ]
     },
     "execution_count": 195,
     "metadata": {},
     "output_type": "execute_result"
    }
   ],
   "source": [
    "complaints_by_borough_type = complaints_by_borough_type.join(complaints_by_borough,\n",
    "                                                             on=['Borough'], how = 'outer')\n",
    "complaints_by_borough_type = complaints_by_borough_type.join(complaints_by_type,\n",
    "                                                             on=['Complaint Type'], how = 'outer')\n",
    "complaints_by_borough_type"
   ]
  },
  {
   "cell_type": "code",
   "execution_count": 196,
   "metadata": {
    "collapsed": false
   },
   "outputs": [
    {
     "data": {
      "text/html": [
       "<div style=\"max-height:1000px;max-width:1500px;overflow:auto;\"><table frame=\"box\" rules=\"cols\">\n",
       "    <tr>\n",
       "        <th style=\"padding-left: 1em; padding-right: 1em; text-align: center\">Borough</th>\n",
       "        <th style=\"padding-left: 1em; padding-right: 1em; text-align: center\">Complaint Type</th>\n",
       "        <th style=\"padding-left: 1em; padding-right: 1em; text-align: center\">Count of Borough and Type</th>\n",
       "        <th style=\"padding-left: 1em; padding-right: 1em; text-align: center\">Count of Borough</th>\n",
       "        <th style=\"padding-left: 1em; padding-right: 1em; text-align: center\">Count of Type</th>\n",
       "    </tr>\n",
       "    <tr>\n",
       "        <td style=\"padding-left: 1em; padding-right: 1em; text-align: center; vertical-align: top\">STATEN ISLAND</td>\n",
       "        <td style=\"padding-left: 1em; padding-right: 1em; text-align: center; vertical-align: top\">Emergency Response Team<br>(ERT) ...</td>\n",
       "        <td style=\"padding-left: 1em; padding-right: 1em; text-align: center; vertical-align: top\">108</td>\n",
       "        <td style=\"padding-left: 1em; padding-right: 1em; text-align: center; vertical-align: top\">483458</td>\n",
       "        <td style=\"padding-left: 1em; padding-right: 1em; text-align: center; vertical-align: top\">2802</td>\n",
       "    </tr>\n",
       "    <tr>\n",
       "        <td style=\"padding-left: 1em; padding-right: 1em; text-align: center; vertical-align: top\">BRONX</td>\n",
       "        <td style=\"padding-left: 1em; padding-right: 1em; text-align: center; vertical-align: top\">For Hire Vehicle<br>Complaint ...</td>\n",
       "        <td style=\"padding-left: 1em; padding-right: 1em; text-align: center; vertical-align: top\">3235</td>\n",
       "        <td style=\"padding-left: 1em; padding-right: 1em; text-align: center; vertical-align: top\">1635380</td>\n",
       "        <td style=\"padding-left: 1em; padding-right: 1em; text-align: center; vertical-align: top\">16145</td>\n",
       "    </tr>\n",
       "    <tr>\n",
       "        <td style=\"padding-left: 1em; padding-right: 1em; text-align: center; vertical-align: top\">BROOKLYN</td>\n",
       "        <td style=\"padding-left: 1em; padding-right: 1em; text-align: center; vertical-align: top\">Damaged Tree</td>\n",
       "        <td style=\"padding-left: 1em; padding-right: 1em; text-align: center; vertical-align: top\">46561</td>\n",
       "        <td style=\"padding-left: 1em; padding-right: 1em; text-align: center; vertical-align: top\">2779885</td>\n",
       "        <td style=\"padding-left: 1em; padding-right: 1em; text-align: center; vertical-align: top\">173736</td>\n",
       "    </tr>\n",
       "    <tr>\n",
       "        <td style=\"padding-left: 1em; padding-right: 1em; text-align: center; vertical-align: top\">MANHATTAN</td>\n",
       "        <td style=\"padding-left: 1em; padding-right: 1em; text-align: center; vertical-align: top\">Interior Demo</td>\n",
       "        <td style=\"padding-left: 1em; padding-right: 1em; text-align: center; vertical-align: top\">1</td>\n",
       "        <td style=\"padding-left: 1em; padding-right: 1em; text-align: center; vertical-align: top\">1859842</td>\n",
       "        <td style=\"padding-left: 1em; padding-right: 1em; text-align: center; vertical-align: top\">1</td>\n",
       "    </tr>\n",
       "    <tr>\n",
       "        <td style=\"padding-left: 1em; padding-right: 1em; text-align: center; vertical-align: top\">BRONX</td>\n",
       "        <td style=\"padding-left: 1em; padding-right: 1em; text-align: center; vertical-align: top\">SCRIE</td>\n",
       "        <td style=\"padding-left: 1em; padding-right: 1em; text-align: center; vertical-align: top\">2852</td>\n",
       "        <td style=\"padding-left: 1em; padding-right: 1em; text-align: center; vertical-align: top\">1635380</td>\n",
       "        <td style=\"padding-left: 1em; padding-right: 1em; text-align: center; vertical-align: top\">16905</td>\n",
       "    </tr>\n",
       "    <tr>\n",
       "        <td style=\"padding-left: 1em; padding-right: 1em; text-align: center; vertical-align: top\">QUEENS</td>\n",
       "        <td style=\"padding-left: 1em; padding-right: 1em; text-align: center; vertical-align: top\">HEATING</td>\n",
       "        <td style=\"padding-left: 1em; padding-right: 1em; text-align: center; vertical-align: top\">75804</td>\n",
       "        <td style=\"padding-left: 1em; padding-right: 1em; text-align: center; vertical-align: top\">2151239</td>\n",
       "        <td style=\"padding-left: 1em; padding-right: 1em; text-align: center; vertical-align: top\">887869</td>\n",
       "    </tr>\n",
       "    <tr>\n",
       "        <td style=\"padding-left: 1em; padding-right: 1em; text-align: center; vertical-align: top\">QUEENS</td>\n",
       "        <td style=\"padding-left: 1em; padding-right: 1em; text-align: center; vertical-align: top\">Derelict Vehicles</td>\n",
       "        <td style=\"padding-left: 1em; padding-right: 1em; text-align: center; vertical-align: top\">26526</td>\n",
       "        <td style=\"padding-left: 1em; padding-right: 1em; text-align: center; vertical-align: top\">2151239</td>\n",
       "        <td style=\"padding-left: 1em; padding-right: 1em; text-align: center; vertical-align: top\">70274</td>\n",
       "    </tr>\n",
       "    <tr>\n",
       "        <td style=\"padding-left: 1em; padding-right: 1em; text-align: center; vertical-align: top\">Unspecified</td>\n",
       "        <td style=\"padding-left: 1em; padding-right: 1em; text-align: center; vertical-align: top\">Litter Basket / Request</td>\n",
       "        <td style=\"padding-left: 1em; padding-right: 1em; text-align: center; vertical-align: top\">12</td>\n",
       "        <td style=\"padding-left: 1em; padding-right: 1em; text-align: center; vertical-align: top\">1102456</td>\n",
       "        <td style=\"padding-left: 1em; padding-right: 1em; text-align: center; vertical-align: top\">15683</td>\n",
       "    </tr>\n",
       "    <tr>\n",
       "        <td style=\"padding-left: 1em; padding-right: 1em; text-align: center; vertical-align: top\">BROOKLYN</td>\n",
       "        <td style=\"padding-left: 1em; padding-right: 1em; text-align: center; vertical-align: top\">Bridge Condition</td>\n",
       "        <td style=\"padding-left: 1em; padding-right: 1em; text-align: center; vertical-align: top\">1385</td>\n",
       "        <td style=\"padding-left: 1em; padding-right: 1em; text-align: center; vertical-align: top\">2779885</td>\n",
       "        <td style=\"padding-left: 1em; padding-right: 1em; text-align: center; vertical-align: top\">3807</td>\n",
       "    </tr>\n",
       "    <tr>\n",
       "        <td style=\"padding-left: 1em; padding-right: 1em; text-align: center; vertical-align: top\">STATEN ISLAND</td>\n",
       "        <td style=\"padding-left: 1em; padding-right: 1em; text-align: center; vertical-align: top\">Consumer Complaint</td>\n",
       "        <td style=\"padding-left: 1em; padding-right: 1em; text-align: center; vertical-align: top\">3237</td>\n",
       "        <td style=\"padding-left: 1em; padding-right: 1em; text-align: center; vertical-align: top\">483458</td>\n",
       "        <td style=\"padding-left: 1em; padding-right: 1em; text-align: center; vertical-align: top\">101124</td>\n",
       "    </tr>\n",
       "</table>\n",
       "<table frame=\"box\" rules=\"cols\">\n",
       "    <tr>\n",
       "        <th style=\"padding-left: 1em; padding-right: 1em; text-align: center\">Pr(Type)</th>\n",
       "        <th style=\"padding-left: 1em; padding-right: 1em; text-align: center\">Pr(Type | Borough)</th>\n",
       "        <th style=\"padding-left: 1em; padding-right: 1em; text-align: center\">Surprise</th>\n",
       "    </tr>\n",
       "    <tr>\n",
       "        <td style=\"padding-left: 1em; padding-right: 1em; text-align: center; vertical-align: top\">0.000279856895446</td>\n",
       "        <td style=\"padding-left: 1em; padding-right: 1em; text-align: center; vertical-align: top\">0.000223390656479</td>\n",
       "        <td style=\"padding-left: 1em; padding-right: 1em; text-align: center; vertical-align: top\">0.798231739557</td>\n",
       "    </tr>\n",
       "    <tr>\n",
       "        <td style=\"padding-left: 1em; padding-right: 1em; text-align: center; vertical-align: top\">0.00161252304674</td>\n",
       "        <td style=\"padding-left: 1em; padding-right: 1em; text-align: center; vertical-align: top\">0.00197813352248</td>\n",
       "        <td style=\"padding-left: 1em; padding-right: 1em; text-align: center; vertical-align: top\">1.22673193817</td>\n",
       "    </tr>\n",
       "    <tr>\n",
       "        <td style=\"padding-left: 1em; padding-right: 1em; text-align: center; vertical-align: top\">0.0173523260483</td>\n",
       "        <td style=\"padding-left: 1em; padding-right: 1em; text-align: center; vertical-align: top\">0.0167492540159</td>\n",
       "        <td style=\"padding-left: 1em; padding-right: 1em; text-align: center; vertical-align: top\">0.965245464459</td>\n",
       "    </tr>\n",
       "    <tr>\n",
       "        <td style=\"padding-left: 1em; padding-right: 1em; text-align: center; vertical-align: top\">9.98775501235e-08</td>\n",
       "        <td style=\"padding-left: 1em; padding-right: 1em; text-align: center; vertical-align: top\">5.37680082502e-07</td>\n",
       "        <td style=\"padding-left: 1em; padding-right: 1em; text-align: center; vertical-align: top\">5.38339278283</td>\n",
       "    </tr>\n",
       "    <tr>\n",
       "        <td style=\"padding-left: 1em; padding-right: 1em; text-align: center; vertical-align: top\">0.00168842998484</td>\n",
       "        <td style=\"padding-left: 1em; padding-right: 1em; text-align: center; vertical-align: top\">0.00174393718891</td>\n",
       "        <td style=\"padding-left: 1em; padding-right: 1em; text-align: center; vertical-align: top\">1.03287504046</td>\n",
       "    </tr>\n",
       "    <tr>\n",
       "        <td style=\"padding-left: 1em; padding-right: 1em; text-align: center; vertical-align: top\">0.0886781805506</td>\n",
       "        <td style=\"padding-left: 1em; padding-right: 1em; text-align: center; vertical-align: top\">0.035237367861</td>\n",
       "        <td style=\"padding-left: 1em; padding-right: 1em; text-align: center; vertical-align: top\">0.397362323429</td>\n",
       "    </tr>\n",
       "    <tr>\n",
       "        <td style=\"padding-left: 1em; padding-right: 1em; text-align: center; vertical-align: top\">0.00701879495738</td>\n",
       "        <td style=\"padding-left: 1em; padding-right: 1em; text-align: center; vertical-align: top\">0.01233056857</td>\n",
       "        <td style=\"padding-left: 1em; padding-right: 1em; text-align: center; vertical-align: top\">1.7567928177</td>\n",
       "    </tr>\n",
       "    <tr>\n",
       "        <td style=\"padding-left: 1em; padding-right: 1em; text-align: center; vertical-align: top\">0.00156637961859</td>\n",
       "        <td style=\"padding-left: 1em; padding-right: 1em; text-align: center; vertical-align: top\">1.08847881457e-05</td>\n",
       "        <td style=\"padding-left: 1em; padding-right: 1em; text-align: center; vertical-align: top\">0.00694901032711</td>\n",
       "    </tr>\n",
       "    <tr>\n",
       "        <td style=\"padding-left: 1em; padding-right: 1em; text-align: center; vertical-align: top\">0.00038023383332</td>\n",
       "        <td style=\"padding-left: 1em; padding-right: 1em; text-align: center; vertical-align: top\">0.000498222048754</td>\n",
       "        <td style=\"padding-left: 1em; padding-right: 1em; text-align: center; vertical-align: top\">1.31030435772</td>\n",
       "    </tr>\n",
       "    <tr>\n",
       "        <td style=\"padding-left: 1em; padding-right: 1em; text-align: center; vertical-align: top\">0.0101000173787</td>\n",
       "        <td style=\"padding-left: 1em; padding-right: 1em; text-align: center; vertical-align: top\">0.00669551439836</td>\n",
       "        <td style=\"padding-left: 1em; padding-right: 1em; text-align: center; vertical-align: top\">0.662921076995</td>\n",
       "    </tr>\n",
       "</table>\n",
       "[1101 rows x 8 columns]<br/>Note: Only the head of the SFrame is printed.<br/>You can use print_rows(num_rows=m, num_columns=n) to print more rows and columns.\n",
       "</div>"
      ],
      "text/plain": [
       "Columns:\n",
       "\tBorough\tstr\n",
       "\tComplaint Type\tstr\n",
       "\tCount of Borough and Type\tint\n",
       "\tCount of Borough\tint\n",
       "\tCount of Type\tint\n",
       "\tPr(Type)\tfloat\n",
       "\tPr(Type | Borough)\tfloat\n",
       "\tSurprise\tfloat\n",
       "\n",
       "Rows: 1101\n",
       "\n",
       "Data:\n",
       "+---------------+-------------------------------+---------------------------+\n",
       "|    Borough    |         Complaint Type        | Count of Borough and Type |\n",
       "+---------------+-------------------------------+---------------------------+\n",
       "| STATEN ISLAND | Emergency Response Team (ERT) |            108            |\n",
       "|     BRONX     |   For Hire Vehicle Complaint  |            3235           |\n",
       "|    BROOKLYN   |          Damaged Tree         |           46561           |\n",
       "|   MANHATTAN   |         Interior Demo         |             1             |\n",
       "|     BRONX     |             SCRIE             |            2852           |\n",
       "|     QUEENS    |            HEATING            |           75804           |\n",
       "|     QUEENS    |       Derelict Vehicles       |           26526           |\n",
       "|  Unspecified  |    Litter Basket / Request    |             12            |\n",
       "|    BROOKLYN   |        Bridge Condition       |            1385           |\n",
       "| STATEN ISLAND |       Consumer Complaint      |            3237           |\n",
       "+---------------+-------------------------------+---------------------------+\n",
       "+------------------+---------------+-------------------+--------------------+\n",
       "| Count of Borough | Count of Type |      Pr(Type)     | Pr(Type | Borough) |\n",
       "+------------------+---------------+-------------------+--------------------+\n",
       "|      483458      |      2802     | 0.000279856895446 | 0.000223390656479  |\n",
       "|     1635380      |     16145     |  0.00161252304674 |  0.00197813352248  |\n",
       "|     2779885      |     173736    |  0.0173523260483  |  0.0167492540159   |\n",
       "|     1859842      |       1       | 9.98775501235e-08 | 5.37680082502e-07  |\n",
       "|     1635380      |     16905     |  0.00168842998484 |  0.00174393718891  |\n",
       "|     2151239      |     887869    |  0.0886781805506  |   0.035237367861   |\n",
       "|     2151239      |     70274     |  0.00701879495738 |   0.01233056857    |\n",
       "|     1102456      |     15683     |  0.00156637961859 | 1.08847881457e-05  |\n",
       "|     2779885      |      3807     |  0.00038023383332 | 0.000498222048754  |\n",
       "|      483458      |     101124    |  0.0101000173787  |  0.00669551439836  |\n",
       "+------------------+---------------+-------------------+--------------------+\n",
       "+------------------+\n",
       "|     Surprise     |\n",
       "+------------------+\n",
       "|  0.798231739557  |\n",
       "|  1.22673193817   |\n",
       "|  0.965245464459  |\n",
       "|  5.38339278283   |\n",
       "|  1.03287504046   |\n",
       "|  0.397362323429  |\n",
       "|   1.7567928177   |\n",
       "| 0.00694901032711 |\n",
       "|  1.31030435772   |\n",
       "|  0.662921076995  |\n",
       "+------------------+\n",
       "[1101 rows x 8 columns]\n",
       "Note: Only the head of the SFrame is printed.\n",
       "You can use print_rows(num_rows=m, num_columns=n) to print more rows and columns."
      ]
     },
     "execution_count": 196,
     "metadata": {},
     "output_type": "execute_result"
    }
   ],
   "source": [
    "complaints_by_borough_type['Pr(Type)'] = complaints_by_borough_type.apply(lambda x:\n",
    "                                         x['Count of Type'] / num_complaints)\n",
    "\n",
    "complaints_by_borough_type['Pr(Type | Borough)'] = complaints_by_borough_type.apply(lambda x:\n",
    "                                                   x['Count of Borough and Type'] / x['Count of Borough']) \n",
    "\n",
    "complaints_by_borough_type['Surprise'] = complaints_by_borough_type.apply(lambda x:\n",
    "                                                   x['Pr(Type | Borough)'] / x['Pr(Type)'])\n",
    "complaints_by_borough_type"
   ]
  },
  {
   "cell_type": "code",
   "execution_count": 197,
   "metadata": {
    "collapsed": false
   },
   "outputs": [
    {
     "data": {
      "text/plain": [
       "'Special Natural Area District (SNAD)'"
      ]
     },
     "execution_count": 197,
     "metadata": {},
     "output_type": "execute_result"
    }
   ],
   "source": [
    "complaints_by_borough_type.sort('Surprise', ascending = False)['Complaint Type'][0]"
   ]
  },
  {
   "cell_type": "markdown",
   "metadata": {},
   "source": [
    "# Question 3"
   ]
  },
  {
   "cell_type": "code",
   "execution_count": 198,
   "metadata": {
    "collapsed": false
   },
   "outputs": [],
   "source": [
    "lat_90 = np.percentile(sf['Latitude'], 90)\n",
    "lat_10 = np.percentile(sf['Latitude'], 10)"
   ]
  },
  {
   "cell_type": "code",
   "execution_count": 199,
   "metadata": {
    "collapsed": false
   },
   "outputs": [
    {
     "data": {
      "text/plain": [
       "0.288837602205966"
      ]
     },
     "execution_count": 199,
     "metadata": {},
     "output_type": "execute_result"
    }
   ],
   "source": [
    "lat_90 - lat_10"
   ]
  },
  {
   "cell_type": "markdown",
   "metadata": {},
   "source": [
    "# Question 4"
   ]
  },
  {
   "cell_type": "code",
   "execution_count": 200,
   "metadata": {
    "collapsed": false
   },
   "outputs": [],
   "source": [
    "# I am doing flat surface approximation, because:\n",
    "# a) I am calculating _approximate_ area to begin with\n",
    "# b) area is small, so the Earth curvature is negligible\n",
    "# conversion numbers from Wikipedia, take ellipticity of Earth into account\n",
    "\n",
    "mean_latitude = sf['Latitude'].mean()\n",
    "\n",
    "km_in_latitude_degree = 110.574\n",
    "km_in_longitude_degree = 111.320 * np.cos( np.radians(mean_latitude) )"
   ]
  },
  {
   "cell_type": "code",
   "execution_count": 201,
   "metadata": {
    "collapsed": false
   },
   "outputs": [],
   "source": [
    "std_latitude_km  = sf['Latitude'].std() * km_in_latitude_degree\n",
    "std_longitude_km = sf['Longitude'].std() * km_in_longitude_degree"
   ]
  },
  {
   "cell_type": "code",
   "execution_count": 202,
   "metadata": {
    "collapsed": false
   },
   "outputs": [
    {
     "data": {
      "text/plain": [
       "52.274865811971729"
      ]
     },
     "execution_count": 202,
     "metadata": {},
     "output_type": "execute_result"
    }
   ],
   "source": [
    "area = 0.25 * np.pi * std_latitude_km * std_longitude_km\n",
    "area"
   ]
  },
  {
   "cell_type": "markdown",
   "metadata": {
    "collapsed": true
   },
   "source": [
    "# Question 5"
   ]
  },
  {
   "cell_type": "code",
   "execution_count": 203,
   "metadata": {
    "collapsed": false
   },
   "outputs": [],
   "source": [
    "date_format = '%m/%d/%Y %I:%M:%S %p'\n",
    "seconds_in_day = 60 * 60 * 24\n",
    "\n",
    "sf['Datetime'] = sf['Created Date'].apply(lambda x : datetime.strptime(x, date_format))\n",
    "sf['Hour'] = sf['Datetime'].apply(lambda x : int(x.hour))\n",
    "sf['Epoch Seconds'] = sf['Datetime'].apply( lambda x : int(time.mktime( x.timetuple() )) )\n",
    "sf['Epoch Days'] = sf['Epoch Seconds'].apply( lambda x : x // seconds_in_day)"
   ]
  },
  {
   "cell_type": "code",
   "execution_count": 206,
   "metadata": {
    "collapsed": false
   },
   "outputs": [],
   "source": [
    "# Remove blocks of consecutive identical times and find time differences.\n",
    "\n",
    "times = np.array(sf['Epoch Seconds'])\n",
    "diff = np.diff(times)\n",
    "diff = np.append(diff, [diff[-1]])\n",
    "\n",
    "sf['Time Error'] = (diff == 0)\n",
    "sf_filtered = sf[sf['Time Error'] == 0].remove_column('Time Error')\n",
    "\n",
    "times = np.array(sf_filtered['Epoch Seconds'])\n",
    "diff = np.diff(times)\n",
    "diff = np.append(diff, [diff[-1]])\n",
    "sf_filtered['Time Difference'] = diff"
   ]
  },
  {
   "cell_type": "code",
   "execution_count": 231,
   "metadata": {
    "collapsed": false
   },
   "outputs": [
    {
     "data": {
      "text/html": [
       "<div style=\"max-height:1000px;max-width:1500px;overflow:auto;\"><table frame=\"box\" rules=\"cols\">\n",
       "    <tr>\n",
       "        <th style=\"padding-left: 1em; padding-right: 1em; text-align: center\">Hour</th>\n",
       "        <th style=\"padding-left: 1em; padding-right: 1em; text-align: center\">Mean Count</th>\n",
       "    </tr>\n",
       "    <tr>\n",
       "        <td style=\"padding-left: 1em; padding-right: 1em; text-align: center; vertical-align: top\">13</td>\n",
       "        <td style=\"padding-left: 1em; padding-right: 1em; text-align: center; vertical-align: top\">173.336661912</td>\n",
       "    </tr>\n",
       "    <tr>\n",
       "        <td style=\"padding-left: 1em; padding-right: 1em; text-align: center; vertical-align: top\">2</td>\n",
       "        <td style=\"padding-left: 1em; padding-right: 1em; text-align: center; vertical-align: top\">29.0199809705</td>\n",
       "    </tr>\n",
       "    <tr>\n",
       "        <td style=\"padding-left: 1em; padding-right: 1em; text-align: center; vertical-align: top\">8</td>\n",
       "        <td style=\"padding-left: 1em; padding-right: 1em; text-align: center; vertical-align: top\">120.806942463</td>\n",
       "    </tr>\n",
       "    <tr>\n",
       "        <td style=\"padding-left: 1em; padding-right: 1em; text-align: center; vertical-align: top\">15</td>\n",
       "        <td style=\"padding-left: 1em; padding-right: 1em; text-align: center; vertical-align: top\">168.966714218</td>\n",
       "    </tr>\n",
       "    <tr>\n",
       "        <td style=\"padding-left: 1em; padding-right: 1em; text-align: center; vertical-align: top\">14</td>\n",
       "        <td style=\"padding-left: 1em; padding-right: 1em; text-align: center; vertical-align: top\">178.335235378</td>\n",
       "    </tr>\n",
       "    <tr>\n",
       "        <td style=\"padding-left: 1em; padding-right: 1em; text-align: center; vertical-align: top\">20</td>\n",
       "        <td style=\"padding-left: 1em; padding-right: 1em; text-align: center; vertical-align: top\">90.4127436995</td>\n",
       "    </tr>\n",
       "    <tr>\n",
       "        <td style=\"padding-left: 1em; padding-right: 1em; text-align: center; vertical-align: top\">19</td>\n",
       "        <td style=\"padding-left: 1em; padding-right: 1em; text-align: center; vertical-align: top\">101.814075131</td>\n",
       "    </tr>\n",
       "    <tr>\n",
       "        <td style=\"padding-left: 1em; padding-right: 1em; text-align: center; vertical-align: top\">0</td>\n",
       "        <td style=\"padding-left: 1em; padding-right: 1em; text-align: center; vertical-align: top\">54.9710076046</td>\n",
       "    </tr>\n",
       "    <tr>\n",
       "        <td style=\"padding-left: 1em; padding-right: 1em; text-align: center; vertical-align: top\">5</td>\n",
       "        <td style=\"padding-left: 1em; padding-right: 1em; text-align: center; vertical-align: top\">19.1887779363</td>\n",
       "    </tr>\n",
       "    <tr>\n",
       "        <td style=\"padding-left: 1em; padding-right: 1em; text-align: center; vertical-align: top\">12</td>\n",
       "        <td style=\"padding-left: 1em; padding-right: 1em; text-align: center; vertical-align: top\">167.715644318</td>\n",
       "    </tr>\n",
       "</table>\n",
       "[24 rows x 2 columns]<br/>Note: Only the head of the SFrame is printed.<br/>You can use print_rows(num_rows=m, num_columns=n) to print more rows and columns.\n",
       "</div>"
      ],
      "text/plain": [
       "Columns:\n",
       "\tHour\tint\n",
       "\tMean Count\tfloat\n",
       "\n",
       "Rows: 24\n",
       "\n",
       "Data:\n",
       "+------+---------------+\n",
       "| Hour |   Mean Count  |\n",
       "+------+---------------+\n",
       "|  13  | 173.336661912 |\n",
       "|  2   | 29.0199809705 |\n",
       "|  8   | 120.806942463 |\n",
       "|  15  | 168.966714218 |\n",
       "|  14  | 178.335235378 |\n",
       "|  20  | 90.4127436995 |\n",
       "|  19  | 101.814075131 |\n",
       "|  0   | 54.9710076046 |\n",
       "|  5   | 19.1887779363 |\n",
       "|  12  | 167.715644318 |\n",
       "+------+---------------+\n",
       "[24 rows x 2 columns]\n",
       "Note: Only the head of the SFrame is printed.\n",
       "You can use print_rows(num_rows=m, num_columns=n) to print more rows and columns."
      ]
     },
     "execution_count": 231,
     "metadata": {},
     "output_type": "execute_result"
    }
   ],
   "source": [
    "complaints_by_hour = sf_filtered.groupby(key_columns = ['Hour', 'Epoch Days'],\n",
    "                                                      operations = {'Count': gl.aggregate.COUNT()})\n",
    "complaints_by_hour = complaints_by_hour.groupby(key_columns = 'Hour',\n",
    "                                                    operations = {'Mean Count': gl.aggregate.MEAN('Count')})\n",
    "complaints_by_hour"
   ]
  },
  {
   "cell_type": "code",
   "execution_count": 233,
   "metadata": {
    "collapsed": false
   },
   "outputs": [
    {
     "data": {
      "text/plain": [
       "163.52876842605852"
      ]
     },
     "execution_count": 233,
     "metadata": {},
     "output_type": "execute_result"
    }
   ],
   "source": [
    "complaints_by_hour['Mean Count'].max() - complaints_by_hour['Mean Count'].min()"
   ]
  },
  {
   "cell_type": "markdown",
   "metadata": {},
   "source": [
    "# Question 6"
   ]
  },
  {
   "cell_type": "code",
   "execution_count": 221,
   "metadata": {
    "collapsed": false
   },
   "outputs": [
    {
     "name": "stdout",
     "output_type": "stream",
     "text": [
      "Standard deviation of differences 61.5770979955 s\n"
     ]
    }
   ],
   "source": [
    "time_diff = sf_filtered['Time Difference'].sort()\n",
    "\n",
    "# after inspection, I remove positive differences (shift in data)\n",
    "# and difference with abs > 10000\n",
    "time_diff = time_diff.filter(lambda x: x < 0 and abs(x) < 10000)\n",
    "\n",
    "print 'Standard deviation of differences', time_diff.std(), 's'"
   ]
  },
  {
   "cell_type": "code",
   "execution_count": null,
   "metadata": {
    "collapsed": true
   },
   "outputs": [],
   "source": []
  }
 ],
 "metadata": {
  "kernelspec": {
   "display_name": "Python 2",
   "language": "python",
   "name": "python2"
  },
  "language_info": {
   "codemirror_mode": {
    "name": "ipython",
    "version": 2
   },
   "file_extension": ".py",
   "mimetype": "text/x-python",
   "name": "python",
   "nbconvert_exporter": "python",
   "pygments_lexer": "ipython2",
   "version": "2.7.10"
  }
 },
 "nbformat": 4,
 "nbformat_minor": 0
}
